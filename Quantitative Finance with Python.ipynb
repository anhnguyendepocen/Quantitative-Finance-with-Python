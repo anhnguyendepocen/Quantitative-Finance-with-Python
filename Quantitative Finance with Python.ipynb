{
 "cells": [
  {
   "cell_type": "code",
   "execution_count": 1,
   "metadata": {},
   "outputs": [
    {
     "name": "stderr",
     "output_type": "stream",
     "text": [
      "/opt/anaconda3/lib/python3.7/site-packages/pandas_datareader/compat/__init__.py:7: FutureWarning: pandas.util.testing is deprecated. Use the functions in the public API at pandas.testing instead.\n",
      "  from pandas.util.testing import assert_frame_equal\n"
     ]
    }
   ],
   "source": [
    "import numpy as np\n",
    "from pandas_datareader import data as wb\n",
    "import matplotlib.pyplot as plt\n",
    "%matplotlib inline"
   ]
  },
  {
   "cell_type": "code",
   "execution_count": 2,
   "metadata": {},
   "outputs": [],
   "source": [
    "PG = wb.DataReader('PG', data_source='yahoo', start='2019-06-03')"
   ]
  },
  {
   "cell_type": "code",
   "execution_count": 3,
   "metadata": {},
   "outputs": [
    {
     "data": {
      "text/html": [
       "<div>\n",
       "<style scoped>\n",
       "    .dataframe tbody tr th:only-of-type {\n",
       "        vertical-align: middle;\n",
       "    }\n",
       "\n",
       "    .dataframe tbody tr th {\n",
       "        vertical-align: top;\n",
       "    }\n",
       "\n",
       "    .dataframe thead th {\n",
       "        text-align: right;\n",
       "    }\n",
       "</style>\n",
       "<table border=\"1\" class=\"dataframe\">\n",
       "  <thead>\n",
       "    <tr style=\"text-align: right;\">\n",
       "      <th></th>\n",
       "      <th>High</th>\n",
       "      <th>Low</th>\n",
       "      <th>Open</th>\n",
       "      <th>Close</th>\n",
       "      <th>Volume</th>\n",
       "      <th>Adj Close</th>\n",
       "    </tr>\n",
       "    <tr>\n",
       "      <th>Date</th>\n",
       "      <th></th>\n",
       "      <th></th>\n",
       "      <th></th>\n",
       "      <th></th>\n",
       "      <th></th>\n",
       "      <th></th>\n",
       "    </tr>\n",
       "  </thead>\n",
       "  <tbody>\n",
       "    <tr>\n",
       "      <th>2019-06-03</th>\n",
       "      <td>103.959999</td>\n",
       "      <td>102.400002</td>\n",
       "      <td>103.150002</td>\n",
       "      <td>103.800003</td>\n",
       "      <td>8532900.0</td>\n",
       "      <td>101.197548</td>\n",
       "    </tr>\n",
       "    <tr>\n",
       "      <th>2019-06-04</th>\n",
       "      <td>105.099998</td>\n",
       "      <td>103.849998</td>\n",
       "      <td>104.010002</td>\n",
       "      <td>104.680000</td>\n",
       "      <td>6906400.0</td>\n",
       "      <td>102.055473</td>\n",
       "    </tr>\n",
       "    <tr>\n",
       "      <th>2019-06-05</th>\n",
       "      <td>106.750000</td>\n",
       "      <td>104.889999</td>\n",
       "      <td>105.239998</td>\n",
       "      <td>106.730003</td>\n",
       "      <td>6481700.0</td>\n",
       "      <td>104.054092</td>\n",
       "    </tr>\n",
       "    <tr>\n",
       "      <th>2019-06-06</th>\n",
       "      <td>107.680000</td>\n",
       "      <td>106.330002</td>\n",
       "      <td>106.849998</td>\n",
       "      <td>107.379997</td>\n",
       "      <td>6681600.0</td>\n",
       "      <td>104.687782</td>\n",
       "    </tr>\n",
       "    <tr>\n",
       "      <th>2019-06-07</th>\n",
       "      <td>109.379997</td>\n",
       "      <td>107.739998</td>\n",
       "      <td>107.739998</td>\n",
       "      <td>108.769997</td>\n",
       "      <td>8063400.0</td>\n",
       "      <td>106.042923</td>\n",
       "    </tr>\n",
       "    <tr>\n",
       "      <th>2019-06-10</th>\n",
       "      <td>109.019997</td>\n",
       "      <td>107.459999</td>\n",
       "      <td>108.320000</td>\n",
       "      <td>108.720001</td>\n",
       "      <td>4767000.0</td>\n",
       "      <td>105.994194</td>\n",
       "    </tr>\n",
       "    <tr>\n",
       "      <th>2019-06-11</th>\n",
       "      <td>109.599998</td>\n",
       "      <td>108.870003</td>\n",
       "      <td>108.940002</td>\n",
       "      <td>109.379997</td>\n",
       "      <td>8074400.0</td>\n",
       "      <td>106.637642</td>\n",
       "    </tr>\n",
       "    <tr>\n",
       "      <th>2019-06-12</th>\n",
       "      <td>110.660004</td>\n",
       "      <td>109.580002</td>\n",
       "      <td>109.599998</td>\n",
       "      <td>109.680000</td>\n",
       "      <td>7687800.0</td>\n",
       "      <td>106.930115</td>\n",
       "    </tr>\n",
       "    <tr>\n",
       "      <th>2019-06-13</th>\n",
       "      <td>110.949997</td>\n",
       "      <td>109.860001</td>\n",
       "      <td>109.980003</td>\n",
       "      <td>110.910004</td>\n",
       "      <td>8611400.0</td>\n",
       "      <td>108.129288</td>\n",
       "    </tr>\n",
       "    <tr>\n",
       "      <th>2019-06-14</th>\n",
       "      <td>111.750000</td>\n",
       "      <td>110.650002</td>\n",
       "      <td>110.970001</td>\n",
       "      <td>111.199997</td>\n",
       "      <td>6438100.0</td>\n",
       "      <td>108.412018</td>\n",
       "    </tr>\n",
       "  </tbody>\n",
       "</table>\n",
       "</div>"
      ],
      "text/plain": [
       "                  High         Low        Open       Close     Volume  \\\n",
       "Date                                                                    \n",
       "2019-06-03  103.959999  102.400002  103.150002  103.800003  8532900.0   \n",
       "2019-06-04  105.099998  103.849998  104.010002  104.680000  6906400.0   \n",
       "2019-06-05  106.750000  104.889999  105.239998  106.730003  6481700.0   \n",
       "2019-06-06  107.680000  106.330002  106.849998  107.379997  6681600.0   \n",
       "2019-06-07  109.379997  107.739998  107.739998  108.769997  8063400.0   \n",
       "2019-06-10  109.019997  107.459999  108.320000  108.720001  4767000.0   \n",
       "2019-06-11  109.599998  108.870003  108.940002  109.379997  8074400.0   \n",
       "2019-06-12  110.660004  109.580002  109.599998  109.680000  7687800.0   \n",
       "2019-06-13  110.949997  109.860001  109.980003  110.910004  8611400.0   \n",
       "2019-06-14  111.750000  110.650002  110.970001  111.199997  6438100.0   \n",
       "\n",
       "             Adj Close  \n",
       "Date                    \n",
       "2019-06-03  101.197548  \n",
       "2019-06-04  102.055473  \n",
       "2019-06-05  104.054092  \n",
       "2019-06-06  104.687782  \n",
       "2019-06-07  106.042923  \n",
       "2019-06-10  105.994194  \n",
       "2019-06-11  106.637642  \n",
       "2019-06-12  106.930115  \n",
       "2019-06-13  108.129288  \n",
       "2019-06-14  108.412018  "
      ]
     },
     "execution_count": 3,
     "metadata": {},
     "output_type": "execute_result"
    }
   ],
   "source": [
    "PG.head(n=10)"
   ]
  },
  {
   "cell_type": "code",
   "execution_count": 4,
   "metadata": {},
   "outputs": [
    {
     "data": {
      "text/html": [
       "<div>\n",
       "<style scoped>\n",
       "    .dataframe tbody tr th:only-of-type {\n",
       "        vertical-align: middle;\n",
       "    }\n",
       "\n",
       "    .dataframe tbody tr th {\n",
       "        vertical-align: top;\n",
       "    }\n",
       "\n",
       "    .dataframe thead th {\n",
       "        text-align: right;\n",
       "    }\n",
       "</style>\n",
       "<table border=\"1\" class=\"dataframe\">\n",
       "  <thead>\n",
       "    <tr style=\"text-align: right;\">\n",
       "      <th></th>\n",
       "      <th>High</th>\n",
       "      <th>Low</th>\n",
       "      <th>Open</th>\n",
       "      <th>Close</th>\n",
       "      <th>Volume</th>\n",
       "      <th>Adj Close</th>\n",
       "    </tr>\n",
       "    <tr>\n",
       "      <th>Date</th>\n",
       "      <th></th>\n",
       "      <th></th>\n",
       "      <th></th>\n",
       "      <th></th>\n",
       "      <th></th>\n",
       "      <th></th>\n",
       "    </tr>\n",
       "  </thead>\n",
       "  <tbody>\n",
       "    <tr>\n",
       "      <th>2020-05-20</th>\n",
       "      <td>113.769997</td>\n",
       "      <td>112.129997</td>\n",
       "      <td>113.000000</td>\n",
       "      <td>113.279999</td>\n",
       "      <td>6593800.0</td>\n",
       "      <td>113.279999</td>\n",
       "    </tr>\n",
       "    <tr>\n",
       "      <th>2020-05-21</th>\n",
       "      <td>113.199997</td>\n",
       "      <td>111.430000</td>\n",
       "      <td>112.800003</td>\n",
       "      <td>111.620003</td>\n",
       "      <td>6552700.0</td>\n",
       "      <td>111.620003</td>\n",
       "    </tr>\n",
       "    <tr>\n",
       "      <th>2020-05-22</th>\n",
       "      <td>113.599998</td>\n",
       "      <td>111.760002</td>\n",
       "      <td>112.290001</td>\n",
       "      <td>112.599998</td>\n",
       "      <td>5571900.0</td>\n",
       "      <td>112.599998</td>\n",
       "    </tr>\n",
       "    <tr>\n",
       "      <th>2020-05-26</th>\n",
       "      <td>114.150002</td>\n",
       "      <td>111.680000</td>\n",
       "      <td>114.150002</td>\n",
       "      <td>112.029999</td>\n",
       "      <td>10432400.0</td>\n",
       "      <td>112.029999</td>\n",
       "    </tr>\n",
       "    <tr>\n",
       "      <th>2020-05-27</th>\n",
       "      <td>113.970001</td>\n",
       "      <td>111.820000</td>\n",
       "      <td>112.500000</td>\n",
       "      <td>113.889999</td>\n",
       "      <td>8279700.0</td>\n",
       "      <td>113.889999</td>\n",
       "    </tr>\n",
       "    <tr>\n",
       "      <th>2020-05-28</th>\n",
       "      <td>116.989998</td>\n",
       "      <td>114.900002</td>\n",
       "      <td>115.529999</td>\n",
       "      <td>116.059998</td>\n",
       "      <td>6586700.0</td>\n",
       "      <td>116.059998</td>\n",
       "    </tr>\n",
       "    <tr>\n",
       "      <th>2020-05-29</th>\n",
       "      <td>116.720001</td>\n",
       "      <td>114.620003</td>\n",
       "      <td>116.129997</td>\n",
       "      <td>115.919998</td>\n",
       "      <td>7987900.0</td>\n",
       "      <td>115.919998</td>\n",
       "    </tr>\n",
       "    <tr>\n",
       "      <th>2020-06-01</th>\n",
       "      <td>117.500000</td>\n",
       "      <td>115.260002</td>\n",
       "      <td>116.000000</td>\n",
       "      <td>117.250000</td>\n",
       "      <td>5105600.0</td>\n",
       "      <td>117.250000</td>\n",
       "    </tr>\n",
       "    <tr>\n",
       "      <th>2020-06-02</th>\n",
       "      <td>118.139999</td>\n",
       "      <td>116.820000</td>\n",
       "      <td>117.070000</td>\n",
       "      <td>118.059998</td>\n",
       "      <td>6327900.0</td>\n",
       "      <td>118.059998</td>\n",
       "    </tr>\n",
       "    <tr>\n",
       "      <th>2020-06-03</th>\n",
       "      <td>119.190002</td>\n",
       "      <td>117.949997</td>\n",
       "      <td>118.099998</td>\n",
       "      <td>118.529999</td>\n",
       "      <td>6169800.0</td>\n",
       "      <td>118.529999</td>\n",
       "    </tr>\n",
       "  </tbody>\n",
       "</table>\n",
       "</div>"
      ],
      "text/plain": [
       "                  High         Low        Open       Close      Volume  \\\n",
       "Date                                                                     \n",
       "2020-05-20  113.769997  112.129997  113.000000  113.279999   6593800.0   \n",
       "2020-05-21  113.199997  111.430000  112.800003  111.620003   6552700.0   \n",
       "2020-05-22  113.599998  111.760002  112.290001  112.599998   5571900.0   \n",
       "2020-05-26  114.150002  111.680000  114.150002  112.029999  10432400.0   \n",
       "2020-05-27  113.970001  111.820000  112.500000  113.889999   8279700.0   \n",
       "2020-05-28  116.989998  114.900002  115.529999  116.059998   6586700.0   \n",
       "2020-05-29  116.720001  114.620003  116.129997  115.919998   7987900.0   \n",
       "2020-06-01  117.500000  115.260002  116.000000  117.250000   5105600.0   \n",
       "2020-06-02  118.139999  116.820000  117.070000  118.059998   6327900.0   \n",
       "2020-06-03  119.190002  117.949997  118.099998  118.529999   6169800.0   \n",
       "\n",
       "             Adj Close  \n",
       "Date                    \n",
       "2020-05-20  113.279999  \n",
       "2020-05-21  111.620003  \n",
       "2020-05-22  112.599998  \n",
       "2020-05-26  112.029999  \n",
       "2020-05-27  113.889999  \n",
       "2020-05-28  116.059998  \n",
       "2020-05-29  115.919998  \n",
       "2020-06-01  117.250000  \n",
       "2020-06-02  118.059998  \n",
       "2020-06-03  118.529999  "
      ]
     },
     "execution_count": 4,
     "metadata": {},
     "output_type": "execute_result"
    }
   ],
   "source": [
    "PG.tail(n=10)"
   ]
  },
  {
   "cell_type": "markdown",
   "metadata": {},
   "source": [
    "# Simple Rate of Return\n",
    "\n",
    "p1-p0/p0 which is same as (p1/p0)-1"
   ]
  },
  {
   "cell_type": "code",
   "execution_count": 5,
   "metadata": {},
   "outputs": [],
   "source": [
    "PG[\"simple_return\"] = (PG['Adj Close']/PG['Adj Close'].shift(1))-1"
   ]
  },
  {
   "cell_type": "code",
   "execution_count": 6,
   "metadata": {},
   "outputs": [
    {
     "data": {
      "text/html": [
       "<div>\n",
       "<style scoped>\n",
       "    .dataframe tbody tr th:only-of-type {\n",
       "        vertical-align: middle;\n",
       "    }\n",
       "\n",
       "    .dataframe tbody tr th {\n",
       "        vertical-align: top;\n",
       "    }\n",
       "\n",
       "    .dataframe thead th {\n",
       "        text-align: right;\n",
       "    }\n",
       "</style>\n",
       "<table border=\"1\" class=\"dataframe\">\n",
       "  <thead>\n",
       "    <tr style=\"text-align: right;\">\n",
       "      <th></th>\n",
       "      <th>High</th>\n",
       "      <th>Low</th>\n",
       "      <th>Open</th>\n",
       "      <th>Close</th>\n",
       "      <th>Volume</th>\n",
       "      <th>Adj Close</th>\n",
       "      <th>simple_return</th>\n",
       "    </tr>\n",
       "    <tr>\n",
       "      <th>Date</th>\n",
       "      <th></th>\n",
       "      <th></th>\n",
       "      <th></th>\n",
       "      <th></th>\n",
       "      <th></th>\n",
       "      <th></th>\n",
       "      <th></th>\n",
       "    </tr>\n",
       "  </thead>\n",
       "  <tbody>\n",
       "    <tr>\n",
       "      <th>2019-06-03</th>\n",
       "      <td>103.959999</td>\n",
       "      <td>102.400002</td>\n",
       "      <td>103.150002</td>\n",
       "      <td>103.800003</td>\n",
       "      <td>8532900.0</td>\n",
       "      <td>101.197548</td>\n",
       "      <td>NaN</td>\n",
       "    </tr>\n",
       "    <tr>\n",
       "      <th>2019-06-04</th>\n",
       "      <td>105.099998</td>\n",
       "      <td>103.849998</td>\n",
       "      <td>104.010002</td>\n",
       "      <td>104.680000</td>\n",
       "      <td>6906400.0</td>\n",
       "      <td>102.055473</td>\n",
       "      <td>0.008478</td>\n",
       "    </tr>\n",
       "    <tr>\n",
       "      <th>2019-06-05</th>\n",
       "      <td>106.750000</td>\n",
       "      <td>104.889999</td>\n",
       "      <td>105.239998</td>\n",
       "      <td>106.730003</td>\n",
       "      <td>6481700.0</td>\n",
       "      <td>104.054092</td>\n",
       "      <td>0.019584</td>\n",
       "    </tr>\n",
       "    <tr>\n",
       "      <th>2019-06-06</th>\n",
       "      <td>107.680000</td>\n",
       "      <td>106.330002</td>\n",
       "      <td>106.849998</td>\n",
       "      <td>107.379997</td>\n",
       "      <td>6681600.0</td>\n",
       "      <td>104.687782</td>\n",
       "      <td>0.006090</td>\n",
       "    </tr>\n",
       "    <tr>\n",
       "      <th>2019-06-07</th>\n",
       "      <td>109.379997</td>\n",
       "      <td>107.739998</td>\n",
       "      <td>107.739998</td>\n",
       "      <td>108.769997</td>\n",
       "      <td>8063400.0</td>\n",
       "      <td>106.042923</td>\n",
       "      <td>0.012945</td>\n",
       "    </tr>\n",
       "    <tr>\n",
       "      <th>2019-06-10</th>\n",
       "      <td>109.019997</td>\n",
       "      <td>107.459999</td>\n",
       "      <td>108.320000</td>\n",
       "      <td>108.720001</td>\n",
       "      <td>4767000.0</td>\n",
       "      <td>105.994194</td>\n",
       "      <td>-0.000460</td>\n",
       "    </tr>\n",
       "    <tr>\n",
       "      <th>2019-06-11</th>\n",
       "      <td>109.599998</td>\n",
       "      <td>108.870003</td>\n",
       "      <td>108.940002</td>\n",
       "      <td>109.379997</td>\n",
       "      <td>8074400.0</td>\n",
       "      <td>106.637642</td>\n",
       "      <td>0.006071</td>\n",
       "    </tr>\n",
       "    <tr>\n",
       "      <th>2019-06-12</th>\n",
       "      <td>110.660004</td>\n",
       "      <td>109.580002</td>\n",
       "      <td>109.599998</td>\n",
       "      <td>109.680000</td>\n",
       "      <td>7687800.0</td>\n",
       "      <td>106.930115</td>\n",
       "      <td>0.002743</td>\n",
       "    </tr>\n",
       "    <tr>\n",
       "      <th>2019-06-13</th>\n",
       "      <td>110.949997</td>\n",
       "      <td>109.860001</td>\n",
       "      <td>109.980003</td>\n",
       "      <td>110.910004</td>\n",
       "      <td>8611400.0</td>\n",
       "      <td>108.129288</td>\n",
       "      <td>0.011215</td>\n",
       "    </tr>\n",
       "    <tr>\n",
       "      <th>2019-06-14</th>\n",
       "      <td>111.750000</td>\n",
       "      <td>110.650002</td>\n",
       "      <td>110.970001</td>\n",
       "      <td>111.199997</td>\n",
       "      <td>6438100.0</td>\n",
       "      <td>108.412018</td>\n",
       "      <td>0.002615</td>\n",
       "    </tr>\n",
       "  </tbody>\n",
       "</table>\n",
       "</div>"
      ],
      "text/plain": [
       "                  High         Low        Open       Close     Volume  \\\n",
       "Date                                                                    \n",
       "2019-06-03  103.959999  102.400002  103.150002  103.800003  8532900.0   \n",
       "2019-06-04  105.099998  103.849998  104.010002  104.680000  6906400.0   \n",
       "2019-06-05  106.750000  104.889999  105.239998  106.730003  6481700.0   \n",
       "2019-06-06  107.680000  106.330002  106.849998  107.379997  6681600.0   \n",
       "2019-06-07  109.379997  107.739998  107.739998  108.769997  8063400.0   \n",
       "2019-06-10  109.019997  107.459999  108.320000  108.720001  4767000.0   \n",
       "2019-06-11  109.599998  108.870003  108.940002  109.379997  8074400.0   \n",
       "2019-06-12  110.660004  109.580002  109.599998  109.680000  7687800.0   \n",
       "2019-06-13  110.949997  109.860001  109.980003  110.910004  8611400.0   \n",
       "2019-06-14  111.750000  110.650002  110.970001  111.199997  6438100.0   \n",
       "\n",
       "             Adj Close  simple_return  \n",
       "Date                                   \n",
       "2019-06-03  101.197548            NaN  \n",
       "2019-06-04  102.055473       0.008478  \n",
       "2019-06-05  104.054092       0.019584  \n",
       "2019-06-06  104.687782       0.006090  \n",
       "2019-06-07  106.042923       0.012945  \n",
       "2019-06-10  105.994194      -0.000460  \n",
       "2019-06-11  106.637642       0.006071  \n",
       "2019-06-12  106.930115       0.002743  \n",
       "2019-06-13  108.129288       0.011215  \n",
       "2019-06-14  108.412018       0.002615  "
      ]
     },
     "execution_count": 6,
     "metadata": {},
     "output_type": "execute_result"
    }
   ],
   "source": [
    "PG.head(10)"
   ]
  },
  {
   "cell_type": "code",
   "execution_count": 7,
   "metadata": {},
   "outputs": [
    {
     "data": {
      "text/html": [
       "<div>\n",
       "<style scoped>\n",
       "    .dataframe tbody tr th:only-of-type {\n",
       "        vertical-align: middle;\n",
       "    }\n",
       "\n",
       "    .dataframe tbody tr th {\n",
       "        vertical-align: top;\n",
       "    }\n",
       "\n",
       "    .dataframe thead th {\n",
       "        text-align: right;\n",
       "    }\n",
       "</style>\n",
       "<table border=\"1\" class=\"dataframe\">\n",
       "  <thead>\n",
       "    <tr style=\"text-align: right;\">\n",
       "      <th></th>\n",
       "      <th>High</th>\n",
       "      <th>Low</th>\n",
       "      <th>Open</th>\n",
       "      <th>Close</th>\n",
       "      <th>Volume</th>\n",
       "      <th>Adj Close</th>\n",
       "      <th>simple_return</th>\n",
       "    </tr>\n",
       "    <tr>\n",
       "      <th>Date</th>\n",
       "      <th></th>\n",
       "      <th></th>\n",
       "      <th></th>\n",
       "      <th></th>\n",
       "      <th></th>\n",
       "      <th></th>\n",
       "      <th></th>\n",
       "    </tr>\n",
       "  </thead>\n",
       "  <tbody>\n",
       "    <tr>\n",
       "      <th>2020-05-20</th>\n",
       "      <td>113.769997</td>\n",
       "      <td>112.129997</td>\n",
       "      <td>113.000000</td>\n",
       "      <td>113.279999</td>\n",
       "      <td>6593800.0</td>\n",
       "      <td>113.279999</td>\n",
       "      <td>0.007471</td>\n",
       "    </tr>\n",
       "    <tr>\n",
       "      <th>2020-05-21</th>\n",
       "      <td>113.199997</td>\n",
       "      <td>111.430000</td>\n",
       "      <td>112.800003</td>\n",
       "      <td>111.620003</td>\n",
       "      <td>6552700.0</td>\n",
       "      <td>111.620003</td>\n",
       "      <td>-0.014654</td>\n",
       "    </tr>\n",
       "    <tr>\n",
       "      <th>2020-05-22</th>\n",
       "      <td>113.599998</td>\n",
       "      <td>111.760002</td>\n",
       "      <td>112.290001</td>\n",
       "      <td>112.599998</td>\n",
       "      <td>5571900.0</td>\n",
       "      <td>112.599998</td>\n",
       "      <td>0.008780</td>\n",
       "    </tr>\n",
       "    <tr>\n",
       "      <th>2020-05-26</th>\n",
       "      <td>114.150002</td>\n",
       "      <td>111.680000</td>\n",
       "      <td>114.150002</td>\n",
       "      <td>112.029999</td>\n",
       "      <td>10432400.0</td>\n",
       "      <td>112.029999</td>\n",
       "      <td>-0.005062</td>\n",
       "    </tr>\n",
       "    <tr>\n",
       "      <th>2020-05-27</th>\n",
       "      <td>113.970001</td>\n",
       "      <td>111.820000</td>\n",
       "      <td>112.500000</td>\n",
       "      <td>113.889999</td>\n",
       "      <td>8279700.0</td>\n",
       "      <td>113.889999</td>\n",
       "      <td>0.016603</td>\n",
       "    </tr>\n",
       "    <tr>\n",
       "      <th>2020-05-28</th>\n",
       "      <td>116.989998</td>\n",
       "      <td>114.900002</td>\n",
       "      <td>115.529999</td>\n",
       "      <td>116.059998</td>\n",
       "      <td>6586700.0</td>\n",
       "      <td>116.059998</td>\n",
       "      <td>0.019053</td>\n",
       "    </tr>\n",
       "    <tr>\n",
       "      <th>2020-05-29</th>\n",
       "      <td>116.720001</td>\n",
       "      <td>114.620003</td>\n",
       "      <td>116.129997</td>\n",
       "      <td>115.919998</td>\n",
       "      <td>7987900.0</td>\n",
       "      <td>115.919998</td>\n",
       "      <td>-0.001206</td>\n",
       "    </tr>\n",
       "    <tr>\n",
       "      <th>2020-06-01</th>\n",
       "      <td>117.500000</td>\n",
       "      <td>115.260002</td>\n",
       "      <td>116.000000</td>\n",
       "      <td>117.250000</td>\n",
       "      <td>5105600.0</td>\n",
       "      <td>117.250000</td>\n",
       "      <td>0.011473</td>\n",
       "    </tr>\n",
       "    <tr>\n",
       "      <th>2020-06-02</th>\n",
       "      <td>118.139999</td>\n",
       "      <td>116.820000</td>\n",
       "      <td>117.070000</td>\n",
       "      <td>118.059998</td>\n",
       "      <td>6327900.0</td>\n",
       "      <td>118.059998</td>\n",
       "      <td>0.006908</td>\n",
       "    </tr>\n",
       "    <tr>\n",
       "      <th>2020-06-03</th>\n",
       "      <td>119.190002</td>\n",
       "      <td>117.949997</td>\n",
       "      <td>118.099998</td>\n",
       "      <td>118.529999</td>\n",
       "      <td>6169800.0</td>\n",
       "      <td>118.529999</td>\n",
       "      <td>0.003981</td>\n",
       "    </tr>\n",
       "  </tbody>\n",
       "</table>\n",
       "</div>"
      ],
      "text/plain": [
       "                  High         Low        Open       Close      Volume  \\\n",
       "Date                                                                     \n",
       "2020-05-20  113.769997  112.129997  113.000000  113.279999   6593800.0   \n",
       "2020-05-21  113.199997  111.430000  112.800003  111.620003   6552700.0   \n",
       "2020-05-22  113.599998  111.760002  112.290001  112.599998   5571900.0   \n",
       "2020-05-26  114.150002  111.680000  114.150002  112.029999  10432400.0   \n",
       "2020-05-27  113.970001  111.820000  112.500000  113.889999   8279700.0   \n",
       "2020-05-28  116.989998  114.900002  115.529999  116.059998   6586700.0   \n",
       "2020-05-29  116.720001  114.620003  116.129997  115.919998   7987900.0   \n",
       "2020-06-01  117.500000  115.260002  116.000000  117.250000   5105600.0   \n",
       "2020-06-02  118.139999  116.820000  117.070000  118.059998   6327900.0   \n",
       "2020-06-03  119.190002  117.949997  118.099998  118.529999   6169800.0   \n",
       "\n",
       "             Adj Close  simple_return  \n",
       "Date                                   \n",
       "2020-05-20  113.279999       0.007471  \n",
       "2020-05-21  111.620003      -0.014654  \n",
       "2020-05-22  112.599998       0.008780  \n",
       "2020-05-26  112.029999      -0.005062  \n",
       "2020-05-27  113.889999       0.016603  \n",
       "2020-05-28  116.059998       0.019053  \n",
       "2020-05-29  115.919998      -0.001206  \n",
       "2020-06-01  117.250000       0.011473  \n",
       "2020-06-02  118.059998       0.006908  \n",
       "2020-06-03  118.529999       0.003981  "
      ]
     },
     "execution_count": 7,
     "metadata": {},
     "output_type": "execute_result"
    }
   ],
   "source": [
    "PG.tail(10)"
   ]
  },
  {
   "cell_type": "code",
   "execution_count": 8,
   "metadata": {},
   "outputs": [
    {
     "name": "stdout",
     "output_type": "stream",
     "text": [
      "Date\n",
      "2019-06-03         NaN\n",
      "2019-06-04    0.008478\n",
      "2019-06-05    0.019584\n",
      "2019-06-06    0.006090\n",
      "2019-06-07    0.012945\n",
      "                ...   \n",
      "2020-05-28    0.019053\n",
      "2020-05-29   -0.001206\n",
      "2020-06-01    0.011473\n",
      "2020-06-02    0.006908\n",
      "2020-06-03    0.003981\n",
      "Name: simple_return, Length: 254, dtype: float64\n"
     ]
    }
   ],
   "source": [
    "print(PG['simple_return'])"
   ]
  },
  {
   "cell_type": "markdown",
   "metadata": {},
   "source": [
    "\n",
    "# Graph of simple_return\n"
   ]
  },
  {
   "cell_type": "code",
   "execution_count": 9,
   "metadata": {},
   "outputs": [
    {
     "data": {
      "image/png": "[encoded data removed]",
      "text/plain": [
       "<Figure size 576x360 with 1 Axes>"
      ]
     },
     "metadata": {
      "needs_background": "light"
     },
     "output_type": "display_data"
    }
   ],
   "source": [
    "PG['simple_return'].plot(figsize=(8,5))\n",
    "plt.show()"
   ]
  },
  {
   "cell_type": "markdown",
   "metadata": {},
   "source": [
    "# Average daily return"
   ]
  },
  {
   "cell_type": "code",
   "execution_count": 10,
   "metadata": {},
   "outputs": [],
   "source": [
    "avg_returns_d = PG['simple_return'].mean()\n"
   ]
  },
  {
   "cell_type": "code",
   "execution_count": 11,
   "metadata": {},
   "outputs": [
    {
     "data": {
      "text/plain": [
       "0.0008381786409178986"
      ]
     },
     "execution_count": 11,
     "metadata": {},
     "output_type": "execute_result"
    }
   ],
   "source": [
    "avg_returns_d"
   ]
  },
  {
   "cell_type": "markdown",
   "metadata": {},
   "source": [
    "# Average annual returns"
   ]
  },
  {
   "cell_type": "code",
   "execution_count": 12,
   "metadata": {},
   "outputs": [],
   "source": [
    "#very very less hence investors interested in annual returns\n",
    "\n",
    "avg_returns_a = PG['simple_return'].mean()*250"
   ]
  },
  {
   "cell_type": "code",
   "execution_count": 13,
   "metadata": {},
   "outputs": [
    {
     "data": {
      "text/plain": [
       "0.20954466022947466"
      ]
     },
     "execution_count": 13,
     "metadata": {},
     "output_type": "execute_result"
    }
   ],
   "source": [
    "avg_returns_a"
   ]
  },
  {
   "cell_type": "code",
   "execution_count": 14,
   "metadata": {},
   "outputs": [
    {
     "name": "stdout",
     "output_type": "stream",
     "text": [
      "20.954%\n"
     ]
    }
   ],
   "source": [
    "print (str(round(avg_returns_a, 5) *100) + '%')"
   ]
  },
  {
   "cell_type": "markdown",
   "metadata": {},
   "source": [
    "# Log returns"
   ]
  },
  {
   "cell_type": "code",
   "execution_count": 15,
   "metadata": {},
   "outputs": [],
   "source": [
    "#log returns are useful for single stock \n",
    "#simple returns are useful for multiple stocks\n",
    "\n",
    "#formula of log returns = ln(p1/p0)= ln p1-ln p0"
   ]
  },
  {
   "cell_type": "code",
   "execution_count": 16,
   "metadata": {},
   "outputs": [
    {
     "data": {
      "text/html": [
       "<div>\n",
       "<style scoped>\n",
       "    .dataframe tbody tr th:only-of-type {\n",
       "        vertical-align: middle;\n",
       "    }\n",
       "\n",
       "    .dataframe tbody tr th {\n",
       "        vertical-align: top;\n",
       "    }\n",
       "\n",
       "    .dataframe thead th {\n",
       "        text-align: right;\n",
       "    }\n",
       "</style>\n",
       "<table border=\"1\" class=\"dataframe\">\n",
       "  <thead>\n",
       "    <tr style=\"text-align: right;\">\n",
       "      <th></th>\n",
       "      <th>High</th>\n",
       "      <th>Low</th>\n",
       "      <th>Open</th>\n",
       "      <th>Close</th>\n",
       "      <th>Volume</th>\n",
       "      <th>Adj Close</th>\n",
       "      <th>simple_return</th>\n",
       "    </tr>\n",
       "    <tr>\n",
       "      <th>Date</th>\n",
       "      <th></th>\n",
       "      <th></th>\n",
       "      <th></th>\n",
       "      <th></th>\n",
       "      <th></th>\n",
       "      <th></th>\n",
       "      <th></th>\n",
       "    </tr>\n",
       "  </thead>\n",
       "  <tbody>\n",
       "    <tr>\n",
       "      <th>2019-06-03</th>\n",
       "      <td>103.959999</td>\n",
       "      <td>102.400002</td>\n",
       "      <td>103.150002</td>\n",
       "      <td>103.800003</td>\n",
       "      <td>8532900.0</td>\n",
       "      <td>101.197548</td>\n",
       "      <td>NaN</td>\n",
       "    </tr>\n",
       "    <tr>\n",
       "      <th>2019-06-04</th>\n",
       "      <td>105.099998</td>\n",
       "      <td>103.849998</td>\n",
       "      <td>104.010002</td>\n",
       "      <td>104.680000</td>\n",
       "      <td>6906400.0</td>\n",
       "      <td>102.055473</td>\n",
       "      <td>0.008478</td>\n",
       "    </tr>\n",
       "    <tr>\n",
       "      <th>2019-06-05</th>\n",
       "      <td>106.750000</td>\n",
       "      <td>104.889999</td>\n",
       "      <td>105.239998</td>\n",
       "      <td>106.730003</td>\n",
       "      <td>6481700.0</td>\n",
       "      <td>104.054092</td>\n",
       "      <td>0.019584</td>\n",
       "    </tr>\n",
       "    <tr>\n",
       "      <th>2019-06-06</th>\n",
       "      <td>107.680000</td>\n",
       "      <td>106.330002</td>\n",
       "      <td>106.849998</td>\n",
       "      <td>107.379997</td>\n",
       "      <td>6681600.0</td>\n",
       "      <td>104.687782</td>\n",
       "      <td>0.006090</td>\n",
       "    </tr>\n",
       "    <tr>\n",
       "      <th>2019-06-07</th>\n",
       "      <td>109.379997</td>\n",
       "      <td>107.739998</td>\n",
       "      <td>107.739998</td>\n",
       "      <td>108.769997</td>\n",
       "      <td>8063400.0</td>\n",
       "      <td>106.042923</td>\n",
       "      <td>0.012945</td>\n",
       "    </tr>\n",
       "  </tbody>\n",
       "</table>\n",
       "</div>"
      ],
      "text/plain": [
       "                  High         Low        Open       Close     Volume  \\\n",
       "Date                                                                    \n",
       "2019-06-03  103.959999  102.400002  103.150002  103.800003  8532900.0   \n",
       "2019-06-04  105.099998  103.849998  104.010002  104.680000  6906400.0   \n",
       "2019-06-05  106.750000  104.889999  105.239998  106.730003  6481700.0   \n",
       "2019-06-06  107.680000  106.330002  106.849998  107.379997  6681600.0   \n",
       "2019-06-07  109.379997  107.739998  107.739998  108.769997  8063400.0   \n",
       "\n",
       "             Adj Close  simple_return  \n",
       "Date                                   \n",
       "2019-06-03  101.197548            NaN  \n",
       "2019-06-04  102.055473       0.008478  \n",
       "2019-06-05  104.054092       0.019584  \n",
       "2019-06-06  104.687782       0.006090  \n",
       "2019-06-07  106.042923       0.012945  "
      ]
     },
     "execution_count": 16,
     "metadata": {},
     "output_type": "execute_result"
    }
   ],
   "source": [
    "PG.head()"
   ]
  },
  {
   "cell_type": "code",
   "execution_count": 17,
   "metadata": {},
   "outputs": [],
   "source": [
    "#log returns = ln(102.055/101.197)\n"
   ]
  },
  {
   "cell_type": "code",
   "execution_count": 18,
   "metadata": {},
   "outputs": [],
   "source": [
    "PG['log_returns'] = np.log((PG['Adj Close'])/PG['Adj Close'].shift(1))"
   ]
  },
  {
   "cell_type": "code",
   "execution_count": 19,
   "metadata": {},
   "outputs": [
    {
     "data": {
      "text/html": [
       "<div>\n",
       "<style scoped>\n",
       "    .dataframe tbody tr th:only-of-type {\n",
       "        vertical-align: middle;\n",
       "    }\n",
       "\n",
       "    .dataframe tbody tr th {\n",
       "        vertical-align: top;\n",
       "    }\n",
       "\n",
       "    .dataframe thead th {\n",
       "        text-align: right;\n",
       "    }\n",
       "</style>\n",
       "<table border=\"1\" class=\"dataframe\">\n",
       "  <thead>\n",
       "    <tr style=\"text-align: right;\">\n",
       "      <th></th>\n",
       "      <th>High</th>\n",
       "      <th>Low</th>\n",
       "      <th>Open</th>\n",
       "      <th>Close</th>\n",
       "      <th>Volume</th>\n",
       "      <th>Adj Close</th>\n",
       "      <th>simple_return</th>\n",
       "      <th>log_returns</th>\n",
       "    </tr>\n",
       "    <tr>\n",
       "      <th>Date</th>\n",
       "      <th></th>\n",
       "      <th></th>\n",
       "      <th></th>\n",
       "      <th></th>\n",
       "      <th></th>\n",
       "      <th></th>\n",
       "      <th></th>\n",
       "      <th></th>\n",
       "    </tr>\n",
       "  </thead>\n",
       "  <tbody>\n",
       "    <tr>\n",
       "      <th>2019-06-03</th>\n",
       "      <td>103.959999</td>\n",
       "      <td>102.400002</td>\n",
       "      <td>103.150002</td>\n",
       "      <td>103.800003</td>\n",
       "      <td>8532900.0</td>\n",
       "      <td>101.197548</td>\n",
       "      <td>NaN</td>\n",
       "      <td>NaN</td>\n",
       "    </tr>\n",
       "    <tr>\n",
       "      <th>2019-06-04</th>\n",
       "      <td>105.099998</td>\n",
       "      <td>103.849998</td>\n",
       "      <td>104.010002</td>\n",
       "      <td>104.680000</td>\n",
       "      <td>6906400.0</td>\n",
       "      <td>102.055473</td>\n",
       "      <td>0.008478</td>\n",
       "      <td>0.008442</td>\n",
       "    </tr>\n",
       "    <tr>\n",
       "      <th>2019-06-05</th>\n",
       "      <td>106.750000</td>\n",
       "      <td>104.889999</td>\n",
       "      <td>105.239998</td>\n",
       "      <td>106.730003</td>\n",
       "      <td>6481700.0</td>\n",
       "      <td>104.054092</td>\n",
       "      <td>0.019584</td>\n",
       "      <td>0.019394</td>\n",
       "    </tr>\n",
       "    <tr>\n",
       "      <th>2019-06-06</th>\n",
       "      <td>107.680000</td>\n",
       "      <td>106.330002</td>\n",
       "      <td>106.849998</td>\n",
       "      <td>107.379997</td>\n",
       "      <td>6681600.0</td>\n",
       "      <td>104.687782</td>\n",
       "      <td>0.006090</td>\n",
       "      <td>0.006072</td>\n",
       "    </tr>\n",
       "    <tr>\n",
       "      <th>2019-06-07</th>\n",
       "      <td>109.379997</td>\n",
       "      <td>107.739998</td>\n",
       "      <td>107.739998</td>\n",
       "      <td>108.769997</td>\n",
       "      <td>8063400.0</td>\n",
       "      <td>106.042923</td>\n",
       "      <td>0.012945</td>\n",
       "      <td>0.012862</td>\n",
       "    </tr>\n",
       "  </tbody>\n",
       "</table>\n",
       "</div>"
      ],
      "text/plain": [
       "                  High         Low        Open       Close     Volume  \\\n",
       "Date                                                                    \n",
       "2019-06-03  103.959999  102.400002  103.150002  103.800003  8532900.0   \n",
       "2019-06-04  105.099998  103.849998  104.010002  104.680000  6906400.0   \n",
       "2019-06-05  106.750000  104.889999  105.239998  106.730003  6481700.0   \n",
       "2019-06-06  107.680000  106.330002  106.849998  107.379997  6681600.0   \n",
       "2019-06-07  109.379997  107.739998  107.739998  108.769997  8063400.0   \n",
       "\n",
       "             Adj Close  simple_return  log_returns  \n",
       "Date                                                \n",
       "2019-06-03  101.197548            NaN          NaN  \n",
       "2019-06-04  102.055473       0.008478     0.008442  \n",
       "2019-06-05  104.054092       0.019584     0.019394  \n",
       "2019-06-06  104.687782       0.006090     0.006072  \n",
       "2019-06-07  106.042923       0.012945     0.012862  "
      ]
     },
     "execution_count": 19,
     "metadata": {},
     "output_type": "execute_result"
    }
   ],
   "source": [
    "PG.head()"
   ]
  },
  {
   "cell_type": "code",
   "execution_count": 20,
   "metadata": {},
   "outputs": [
    {
     "name": "stdout",
     "output_type": "stream",
     "text": [
      "Date\n",
      "2019-06-03         NaN\n",
      "2019-06-04    0.008442\n",
      "2019-06-05    0.019394\n",
      "2019-06-06    0.006072\n",
      "2019-06-07    0.012862\n",
      "                ...   \n",
      "2020-05-28    0.018874\n",
      "2020-05-29   -0.001207\n",
      "2020-06-01    0.011408\n",
      "2020-06-02    0.006885\n",
      "2020-06-03    0.003973\n",
      "Name: log_returns, Length: 254, dtype: float64\n"
     ]
    }
   ],
   "source": [
    "print (PG['log_returns'])"
   ]
  },
  {
   "cell_type": "code",
   "execution_count": 21,
   "metadata": {},
   "outputs": [
    {
     "data": {
      "image/png": "[encoded data removed]",
      "text/plain": [
       "<Figure size 648x576 with 1 Axes>"
      ]
     },
     "metadata": {
      "needs_background": "light"
     },
     "output_type": "display_data"
    }
   ],
   "source": [
    "PG['log_returns'].plot(figsize=(9,8))\n",
    "plt.show()"
   ]
  },
  {
   "cell_type": "code",
   "execution_count": 22,
   "metadata": {},
   "outputs": [
    {
     "data": {
      "text/plain": [
       "0.0006248678116426308"
      ]
     },
     "execution_count": 22,
     "metadata": {},
     "output_type": "execute_result"
    }
   ],
   "source": [
    "log_returns_d = PG['log_returns'].mean()#avg daily log returns\n",
    "log_returns_d"
   ]
  },
  {
   "cell_type": "code",
   "execution_count": 23,
   "metadata": {},
   "outputs": [],
   "source": [
    "log_returns_a = PG[\"log_returns\"].mean()*250"
   ]
  },
  {
   "cell_type": "code",
   "execution_count": 24,
   "metadata": {},
   "outputs": [
    {
     "data": {
      "text/plain": [
       "0.1562169529106577"
      ]
     },
     "execution_count": 24,
     "metadata": {},
     "output_type": "execute_result"
    }
   ],
   "source": [
    "log_returns_a"
   ]
  },
  {
   "cell_type": "code",
   "execution_count": 25,
   "metadata": {},
   "outputs": [
    {
     "data": {
      "text/plain": [
       "15.622"
      ]
     },
     "execution_count": 25,
     "metadata": {},
     "output_type": "execute_result"
    }
   ],
   "source": [
    "round(log_returns_a,5)*100"
   ]
  },
  {
   "cell_type": "code",
   "execution_count": 26,
   "metadata": {},
   "outputs": [
    {
     "name": "stdout",
     "output_type": "stream",
     "text": [
      "15.620000000000001%\n"
     ]
    }
   ],
   "source": [
    "print (str(round(log_returns_a, 4)*100) + '%')"
   ]
  },
  {
   "cell_type": "markdown",
   "metadata": {},
   "source": [
    "# Calculating portfolio returns\n"
   ]
  },
  {
   "cell_type": "code",
   "execution_count": 27,
   "metadata": {},
   "outputs": [],
   "source": [
    "#portfolio is collection of stocks\n",
    "#airtel avr annual rate of returns = 0.19\n",
    "#jio avr annual rate of returns = 0.31\n",
    "#idea avr annual rate of returns = 0.45\n",
    "#bsnl avr annual rate of returns = 0.38\n",
    "\n",
    "#assume equal weights to each stock(i.e. 25%)\n",
    "\n",
    "#portfolio rate of return = 0.19*25%+0.31*25%+0.45*25%+0.38*25%\n",
    "#if weights are different?"
   ]
  },
  {
   "cell_type": "code",
   "execution_count": 28,
   "metadata": {},
   "outputs": [],
   "source": [
    "import numpy as np\n",
    "import pandas as pd\n",
    "from pandas_datareader import data as wb\n",
    "import matplotlib.pyplot as plt"
   ]
  },
  {
   "cell_type": "code",
   "execution_count": 29,
   "metadata": {},
   "outputs": [],
   "source": [
    "tickers = ['PG', 'MSFT', 'F', 'GE']"
   ]
  },
  {
   "cell_type": "code",
   "execution_count": 30,
   "metadata": {},
   "outputs": [],
   "source": [
    "mydata = pd.DataFrame()"
   ]
  },
  {
   "cell_type": "code",
   "execution_count": 31,
   "metadata": {},
   "outputs": [],
   "source": [
    "for t in tickers:\n",
    "    mydata[t]= wb.DataReader(t, data_source = 'yahoo', start='2019-06-03')['Adj Close']\n",
    "    \n"
   ]
  },
  {
   "cell_type": "code",
   "execution_count": 32,
   "metadata": {},
   "outputs": [
    {
     "name": "stdout",
     "output_type": "stream",
     "text": [
      "<class 'pandas.core.frame.DataFrame'>\n",
      "DatetimeIndex: 254 entries, 2019-06-03 to 2020-06-03\n",
      "Data columns (total 4 columns):\n",
      " #   Column  Non-Null Count  Dtype  \n",
      "---  ------  --------------  -----  \n",
      " 0   PG      254 non-null    float64\n",
      " 1   MSFT    254 non-null    float64\n",
      " 2   F       254 non-null    float64\n",
      " 3   GE      254 non-null    float64\n",
      "dtypes: float64(4)\n",
      "memory usage: 9.9 KB\n"
     ]
    }
   ],
   "source": [
    "mydata.info()"
   ]
  },
  {
   "cell_type": "code",
   "execution_count": 33,
   "metadata": {},
   "outputs": [
    {
     "data": {
      "text/html": [
       "<div>\n",
       "<style scoped>\n",
       "    .dataframe tbody tr th:only-of-type {\n",
       "        vertical-align: middle;\n",
       "    }\n",
       "\n",
       "    .dataframe tbody tr th {\n",
       "        vertical-align: top;\n",
       "    }\n",
       "\n",
       "    .dataframe thead th {\n",
       "        text-align: right;\n",
       "    }\n",
       "</style>\n",
       "<table border=\"1\" class=\"dataframe\">\n",
       "  <thead>\n",
       "    <tr style=\"text-align: right;\">\n",
       "      <th></th>\n",
       "      <th>PG</th>\n",
       "      <th>MSFT</th>\n",
       "      <th>F</th>\n",
       "      <th>GE</th>\n",
       "    </tr>\n",
       "    <tr>\n",
       "      <th>Date</th>\n",
       "      <th></th>\n",
       "      <th></th>\n",
       "      <th></th>\n",
       "      <th></th>\n",
       "    </tr>\n",
       "  </thead>\n",
       "  <tbody>\n",
       "    <tr>\n",
       "      <th>2019-06-03</th>\n",
       "      <td>101.197372</td>\n",
       "      <td>118.383247</td>\n",
       "      <td>9.160008</td>\n",
       "      <td>9.492513</td>\n",
       "    </tr>\n",
       "    <tr>\n",
       "      <th>2019-06-04</th>\n",
       "      <td>102.055313</td>\n",
       "      <td>121.662903</td>\n",
       "      <td>9.455493</td>\n",
       "      <td>9.960665</td>\n",
       "    </tr>\n",
       "    <tr>\n",
       "      <th>2019-06-05</th>\n",
       "      <td>104.053909</td>\n",
       "      <td>124.300446</td>\n",
       "      <td>9.322048</td>\n",
       "      <td>9.851098</td>\n",
       "    </tr>\n",
       "    <tr>\n",
       "      <th>2019-06-06</th>\n",
       "      <td>104.687607</td>\n",
       "      <td>126.266251</td>\n",
       "      <td>9.293454</td>\n",
       "      <td>9.880980</td>\n",
       "    </tr>\n",
       "    <tr>\n",
       "      <th>2019-06-07</th>\n",
       "      <td>106.042755</td>\n",
       "      <td>129.802719</td>\n",
       "      <td>9.302985</td>\n",
       "      <td>9.940742</td>\n",
       "    </tr>\n",
       "  </tbody>\n",
       "</table>\n",
       "</div>"
      ],
      "text/plain": [
       "                    PG        MSFT         F        GE\n",
       "Date                                                  \n",
       "2019-06-03  101.197372  118.383247  9.160008  9.492513\n",
       "2019-06-04  102.055313  121.662903  9.455493  9.960665\n",
       "2019-06-05  104.053909  124.300446  9.322048  9.851098\n",
       "2019-06-06  104.687607  126.266251  9.293454  9.880980\n",
       "2019-06-07  106.042755  129.802719  9.302985  9.940742"
      ]
     },
     "execution_count": 33,
     "metadata": {},
     "output_type": "execute_result"
    }
   ],
   "source": [
    "mydata.head()"
   ]
  },
  {
   "cell_type": "markdown",
   "metadata": {},
   "source": [
    "# Normalization"
   ]
  },
  {
   "cell_type": "code",
   "execution_count": 34,
   "metadata": {},
   "outputs": [],
   "source": [
    "#(Pt/P0)*100# normalization to 100"
   ]
  },
  {
   "cell_type": "code",
   "execution_count": 35,
   "metadata": {},
   "outputs": [
    {
     "data": {
      "text/plain": [
       "PG      101.197372\n",
       "MSFT    118.383247\n",
       "F         9.160008\n",
       "GE        9.492513\n",
       "Name: 2019-06-03 00:00:00, dtype: float64"
      ]
     },
     "execution_count": 35,
     "metadata": {},
     "output_type": "execute_result"
    }
   ],
   "source": [
    "mydata.iloc[0]"
   ]
  },
  {
   "cell_type": "code",
   "execution_count": 36,
   "metadata": {},
   "outputs": [
    {
     "data": {
      "text/html": [
       "<div>\n",
       "<style scoped>\n",
       "    .dataframe tbody tr th:only-of-type {\n",
       "        vertical-align: middle;\n",
       "    }\n",
       "\n",
       "    .dataframe tbody tr th {\n",
       "        vertical-align: top;\n",
       "    }\n",
       "\n",
       "    .dataframe thead th {\n",
       "        text-align: right;\n",
       "    }\n",
       "</style>\n",
       "<table border=\"1\" class=\"dataframe\">\n",
       "  <thead>\n",
       "    <tr style=\"text-align: right;\">\n",
       "      <th></th>\n",
       "      <th>PG</th>\n",
       "      <th>MSFT</th>\n",
       "      <th>F</th>\n",
       "      <th>GE</th>\n",
       "    </tr>\n",
       "    <tr>\n",
       "      <th>Date</th>\n",
       "      <th></th>\n",
       "      <th></th>\n",
       "      <th></th>\n",
       "      <th></th>\n",
       "    </tr>\n",
       "  </thead>\n",
       "  <tbody>\n",
       "    <tr>\n",
       "      <th>2019-06-03</th>\n",
       "      <td>1.000000</td>\n",
       "      <td>1.000000</td>\n",
       "      <td>1.000000</td>\n",
       "      <td>1.000000</td>\n",
       "    </tr>\n",
       "    <tr>\n",
       "      <th>2019-06-04</th>\n",
       "      <td>1.008478</td>\n",
       "      <td>1.027704</td>\n",
       "      <td>1.032258</td>\n",
       "      <td>1.049318</td>\n",
       "    </tr>\n",
       "    <tr>\n",
       "      <th>2019-06-05</th>\n",
       "      <td>1.028227</td>\n",
       "      <td>1.049983</td>\n",
       "      <td>1.017690</td>\n",
       "      <td>1.037776</td>\n",
       "    </tr>\n",
       "    <tr>\n",
       "      <th>2019-06-06</th>\n",
       "      <td>1.034489</td>\n",
       "      <td>1.066589</td>\n",
       "      <td>1.014568</td>\n",
       "      <td>1.040923</td>\n",
       "    </tr>\n",
       "    <tr>\n",
       "      <th>2019-06-07</th>\n",
       "      <td>1.047881</td>\n",
       "      <td>1.096462</td>\n",
       "      <td>1.015609</td>\n",
       "      <td>1.047219</td>\n",
       "    </tr>\n",
       "    <tr>\n",
       "      <th>...</th>\n",
       "      <td>...</td>\n",
       "      <td>...</td>\n",
       "      <td>...</td>\n",
       "      <td>...</td>\n",
       "    </tr>\n",
       "    <tr>\n",
       "      <th>2020-05-28</th>\n",
       "      <td>1.146868</td>\n",
       "      <td>1.532311</td>\n",
       "      <td>0.638646</td>\n",
       "      <td>0.714247</td>\n",
       "    </tr>\n",
       "    <tr>\n",
       "      <th>2020-05-29</th>\n",
       "      <td>1.145484</td>\n",
       "      <td>1.547939</td>\n",
       "      <td>0.623362</td>\n",
       "      <td>0.692124</td>\n",
       "    </tr>\n",
       "    <tr>\n",
       "      <th>2020-06-01</th>\n",
       "      <td>1.158627</td>\n",
       "      <td>1.544391</td>\n",
       "      <td>0.640829</td>\n",
       "      <td>0.712140</td>\n",
       "    </tr>\n",
       "    <tr>\n",
       "      <th>2020-06-02</th>\n",
       "      <td>1.166631</td>\n",
       "      <td>1.561961</td>\n",
       "      <td>0.644104</td>\n",
       "      <td>0.742691</td>\n",
       "    </tr>\n",
       "    <tr>\n",
       "      <th>2020-06-03</th>\n",
       "      <td>1.171275</td>\n",
       "      <td>1.565762</td>\n",
       "      <td>0.675764</td>\n",
       "      <td>0.775348</td>\n",
       "    </tr>\n",
       "  </tbody>\n",
       "</table>\n",
       "<p>254 rows × 4 columns</p>\n",
       "</div>"
      ],
      "text/plain": [
       "                  PG      MSFT         F        GE\n",
       "Date                                              \n",
       "2019-06-03  1.000000  1.000000  1.000000  1.000000\n",
       "2019-06-04  1.008478  1.027704  1.032258  1.049318\n",
       "2019-06-05  1.028227  1.049983  1.017690  1.037776\n",
       "2019-06-06  1.034489  1.066589  1.014568  1.040923\n",
       "2019-06-07  1.047881  1.096462  1.015609  1.047219\n",
       "...              ...       ...       ...       ...\n",
       "2020-05-28  1.146868  1.532311  0.638646  0.714247\n",
       "2020-05-29  1.145484  1.547939  0.623362  0.692124\n",
       "2020-06-01  1.158627  1.544391  0.640829  0.712140\n",
       "2020-06-02  1.166631  1.561961  0.644104  0.742691\n",
       "2020-06-03  1.171275  1.565762  0.675764  0.775348\n",
       "\n",
       "[254 rows x 4 columns]"
      ]
     },
     "execution_count": 36,
     "metadata": {},
     "output_type": "execute_result"
    }
   ],
   "source": [
    "mydata/mydata.iloc[0]# first row always will be 1 since P0/P0*100=1.00"
   ]
  },
  {
   "cell_type": "code",
   "execution_count": 37,
   "metadata": {},
   "outputs": [
    {
     "data": {
      "image/png": "[encoded data removed]",
      "text/plain": [
       "<Figure size 576x360 with 1 Axes>"
      ]
     },
     "metadata": {
      "needs_background": "light"
     },
     "output_type": "display_data"
    }
   ],
   "source": [
    "(mydata/mydata.iloc[0]*100).plot(figsize=(8,5))\n",
    "plt.show()"
   ]
  },
  {
   "cell_type": "code",
   "execution_count": 38,
   "metadata": {},
   "outputs": [],
   "source": [
    "#interpretation=microsoft MSFT has highest adj close"
   ]
  },
  {
   "cell_type": "code",
   "execution_count": 44,
   "metadata": {},
   "outputs": [],
   "source": [
    "#we can now compare behavior of 4 stock as if they start from same value 100"
   ]
  },
  {
   "cell_type": "code",
   "execution_count": 45,
   "metadata": {},
   "outputs": [
    {
     "data": {
      "image/png": "[encoded data removed]",
      "text/plain": [
       "<Figure size 576x360 with 1 Axes>"
      ]
     },
     "metadata": {
      "needs_background": "light"
     },
     "output_type": "display_data"
    }
   ],
   "source": [
    "#if we dont normalize and directly plot then\n",
    "mydata.plot(figsize=(8,5))\n",
    "plt.show()# starting point is different hence not comparable hence normalization is very imp"
   ]
  },
  {
   "cell_type": "code",
   "execution_count": 46,
   "metadata": {},
   "outputs": [
    {
     "data": {
      "text/plain": [
       "PG      101.197372\n",
       "MSFT    118.383247\n",
       "F         9.160008\n",
       "GE        9.492513\n",
       "Name: 2019-06-03 00:00:00, dtype: float64"
      ]
     },
     "execution_count": 46,
     "metadata": {},
     "output_type": "execute_result"
    }
   ],
   "source": [
    "mydata.loc['2019-06-03']"
   ]
  },
  {
   "cell_type": "code",
   "execution_count": 47,
   "metadata": {},
   "outputs": [
    {
     "data": {
      "text/plain": [
       "PG      101.197372\n",
       "MSFT    118.383247\n",
       "F         9.160008\n",
       "GE        9.492513\n",
       "Name: 2019-06-03 00:00:00, dtype: float64"
      ]
     },
     "execution_count": 47,
     "metadata": {},
     "output_type": "execute_result"
    }
   ],
   "source": [
    "mydata.iloc[0]"
   ]
  },
  {
   "cell_type": "code",
   "execution_count": 48,
   "metadata": {},
   "outputs": [],
   "source": [
    "#above loc and iloc gives same output but loc['lable'] and iloc[position]"
   ]
  },
  {
   "cell_type": "markdown",
   "metadata": {},
   "source": [
    "# Calculating the return of portfolio of securities"
   ]
  },
  {
   "cell_type": "code",
   "execution_count": 49,
   "metadata": {},
   "outputs": [
    {
     "data": {
      "text/html": [
       "<div>\n",
       "<style scoped>\n",
       "    .dataframe tbody tr th:only-of-type {\n",
       "        vertical-align: middle;\n",
       "    }\n",
       "\n",
       "    .dataframe tbody tr th {\n",
       "        vertical-align: top;\n",
       "    }\n",
       "\n",
       "    .dataframe thead th {\n",
       "        text-align: right;\n",
       "    }\n",
       "</style>\n",
       "<table border=\"1\" class=\"dataframe\">\n",
       "  <thead>\n",
       "    <tr style=\"text-align: right;\">\n",
       "      <th></th>\n",
       "      <th>PG</th>\n",
       "      <th>MSFT</th>\n",
       "      <th>F</th>\n",
       "      <th>GE</th>\n",
       "    </tr>\n",
       "    <tr>\n",
       "      <th>Date</th>\n",
       "      <th></th>\n",
       "      <th></th>\n",
       "      <th></th>\n",
       "      <th></th>\n",
       "    </tr>\n",
       "  </thead>\n",
       "  <tbody>\n",
       "    <tr>\n",
       "      <th>2019-06-03</th>\n",
       "      <td>101.197372</td>\n",
       "      <td>118.383247</td>\n",
       "      <td>9.160008</td>\n",
       "      <td>9.492513</td>\n",
       "    </tr>\n",
       "    <tr>\n",
       "      <th>2019-06-04</th>\n",
       "      <td>102.055313</td>\n",
       "      <td>121.662903</td>\n",
       "      <td>9.455493</td>\n",
       "      <td>9.960665</td>\n",
       "    </tr>\n",
       "    <tr>\n",
       "      <th>2019-06-05</th>\n",
       "      <td>104.053909</td>\n",
       "      <td>124.300446</td>\n",
       "      <td>9.322048</td>\n",
       "      <td>9.851098</td>\n",
       "    </tr>\n",
       "    <tr>\n",
       "      <th>2019-06-06</th>\n",
       "      <td>104.687607</td>\n",
       "      <td>126.266251</td>\n",
       "      <td>9.293454</td>\n",
       "      <td>9.880980</td>\n",
       "    </tr>\n",
       "    <tr>\n",
       "      <th>2019-06-07</th>\n",
       "      <td>106.042755</td>\n",
       "      <td>129.802719</td>\n",
       "      <td>9.302985</td>\n",
       "      <td>9.940742</td>\n",
       "    </tr>\n",
       "  </tbody>\n",
       "</table>\n",
       "</div>"
      ],
      "text/plain": [
       "                    PG        MSFT         F        GE\n",
       "Date                                                  \n",
       "2019-06-03  101.197372  118.383247  9.160008  9.492513\n",
       "2019-06-04  102.055313  121.662903  9.455493  9.960665\n",
       "2019-06-05  104.053909  124.300446  9.322048  9.851098\n",
       "2019-06-06  104.687607  126.266251  9.293454  9.880980\n",
       "2019-06-07  106.042755  129.802719  9.302985  9.940742"
      ]
     },
     "execution_count": 49,
     "metadata": {},
     "output_type": "execute_result"
    }
   ],
   "source": [
    "mydata.head()"
   ]
  },
  {
   "cell_type": "code",
   "execution_count": 50,
   "metadata": {},
   "outputs": [],
   "source": [
    "returns = (mydata/mydata.shift(1))-1"
   ]
  },
  {
   "cell_type": "code",
   "execution_count": 51,
   "metadata": {},
   "outputs": [
    {
     "data": {
      "text/html": [
       "<div>\n",
       "<style scoped>\n",
       "    .dataframe tbody tr th:only-of-type {\n",
       "        vertical-align: middle;\n",
       "    }\n",
       "\n",
       "    .dataframe tbody tr th {\n",
       "        vertical-align: top;\n",
       "    }\n",
       "\n",
       "    .dataframe thead th {\n",
       "        text-align: right;\n",
       "    }\n",
       "</style>\n",
       "<table border=\"1\" class=\"dataframe\">\n",
       "  <thead>\n",
       "    <tr style=\"text-align: right;\">\n",
       "      <th></th>\n",
       "      <th>PG</th>\n",
       "      <th>MSFT</th>\n",
       "      <th>F</th>\n",
       "      <th>GE</th>\n",
       "    </tr>\n",
       "    <tr>\n",
       "      <th>Date</th>\n",
       "      <th></th>\n",
       "      <th></th>\n",
       "      <th></th>\n",
       "      <th></th>\n",
       "    </tr>\n",
       "  </thead>\n",
       "  <tbody>\n",
       "    <tr>\n",
       "      <th>2019-06-03</th>\n",
       "      <td>NaN</td>\n",
       "      <td>NaN</td>\n",
       "      <td>NaN</td>\n",
       "      <td>NaN</td>\n",
       "    </tr>\n",
       "    <tr>\n",
       "      <th>2019-06-04</th>\n",
       "      <td>0.008478</td>\n",
       "      <td>0.027704</td>\n",
       "      <td>0.032258</td>\n",
       "      <td>0.049318</td>\n",
       "    </tr>\n",
       "    <tr>\n",
       "      <th>2019-06-05</th>\n",
       "      <td>0.019583</td>\n",
       "      <td>0.021679</td>\n",
       "      <td>-0.014113</td>\n",
       "      <td>-0.011000</td>\n",
       "    </tr>\n",
       "    <tr>\n",
       "      <th>2019-06-06</th>\n",
       "      <td>0.006090</td>\n",
       "      <td>0.015815</td>\n",
       "      <td>-0.003067</td>\n",
       "      <td>0.003033</td>\n",
       "    </tr>\n",
       "    <tr>\n",
       "      <th>2019-06-07</th>\n",
       "      <td>0.012945</td>\n",
       "      <td>0.028008</td>\n",
       "      <td>0.001026</td>\n",
       "      <td>0.006048</td>\n",
       "    </tr>\n",
       "  </tbody>\n",
       "</table>\n",
       "</div>"
      ],
      "text/plain": [
       "                  PG      MSFT         F        GE\n",
       "Date                                              \n",
       "2019-06-03       NaN       NaN       NaN       NaN\n",
       "2019-06-04  0.008478  0.027704  0.032258  0.049318\n",
       "2019-06-05  0.019583  0.021679 -0.014113 -0.011000\n",
       "2019-06-06  0.006090  0.015815 -0.003067  0.003033\n",
       "2019-06-07  0.012945  0.028008  0.001026  0.006048"
      ]
     },
     "execution_count": 51,
     "metadata": {},
     "output_type": "execute_result"
    }
   ],
   "source": [
    "returns.head()"
   ]
  },
  {
   "cell_type": "code",
   "execution_count": 52,
   "metadata": {},
   "outputs": [],
   "source": [
    "weights=np.array([0.25, 0.25, 0.25, 0.25])"
   ]
  },
  {
   "cell_type": "code",
   "execution_count": 53,
   "metadata": {
    "scrolled": true
   },
   "outputs": [
    {
     "data": {
      "text/plain": [
       "array([0.25, 0.25, 0.25, 0.25])"
      ]
     },
     "execution_count": 53,
     "metadata": {},
     "output_type": "execute_result"
    }
   ],
   "source": [
    "weights"
   ]
  },
  {
   "cell_type": "code",
   "execution_count": 54,
   "metadata": {},
   "outputs": [
    {
     "data": {
      "text/html": [
       "<div>\n",
       "<style scoped>\n",
       "    .dataframe tbody tr th:only-of-type {\n",
       "        vertical-align: middle;\n",
       "    }\n",
       "\n",
       "    .dataframe tbody tr th {\n",
       "        vertical-align: top;\n",
       "    }\n",
       "\n",
       "    .dataframe thead th {\n",
       "        text-align: right;\n",
       "    }\n",
       "</style>\n",
       "<table border=\"1\" class=\"dataframe\">\n",
       "  <thead>\n",
       "    <tr style=\"text-align: right;\">\n",
       "      <th></th>\n",
       "      <th>PG</th>\n",
       "      <th>MSFT</th>\n",
       "      <th>F</th>\n",
       "      <th>GE</th>\n",
       "    </tr>\n",
       "  </thead>\n",
       "  <tbody>\n",
       "    <tr>\n",
       "      <th>count</th>\n",
       "      <td>253.000000</td>\n",
       "      <td>253.000000</td>\n",
       "      <td>253.000000</td>\n",
       "      <td>253.000000</td>\n",
       "    </tr>\n",
       "    <tr>\n",
       "      <th>mean</th>\n",
       "      <td>0.000838</td>\n",
       "      <td>0.002085</td>\n",
       "      <td>-0.001066</td>\n",
       "      <td>-0.000303</td>\n",
       "    </tr>\n",
       "    <tr>\n",
       "      <th>std</th>\n",
       "      <td>0.020731</td>\n",
       "      <td>0.024986</td>\n",
       "      <td>0.031377</td>\n",
       "      <td>0.037535</td>\n",
       "    </tr>\n",
       "    <tr>\n",
       "      <th>min</th>\n",
       "      <td>-0.087373</td>\n",
       "      <td>-0.147390</td>\n",
       "      <td>-0.110124</td>\n",
       "      <td>-0.151592</td>\n",
       "    </tr>\n",
       "    <tr>\n",
       "      <th>25%</th>\n",
       "      <td>-0.005818</td>\n",
       "      <td>-0.007277</td>\n",
       "      <td>-0.011506</td>\n",
       "      <td>-0.015284</td>\n",
       "    </tr>\n",
       "    <tr>\n",
       "      <th>50%</th>\n",
       "      <td>0.001625</td>\n",
       "      <td>0.001828</td>\n",
       "      <td>-0.001091</td>\n",
       "      <td>-0.002527</td>\n",
       "    </tr>\n",
       "    <tr>\n",
       "      <th>75%</th>\n",
       "      <td>0.008478</td>\n",
       "      <td>0.011154</td>\n",
       "      <td>0.008929</td>\n",
       "      <td>0.013488</td>\n",
       "    </tr>\n",
       "    <tr>\n",
       "      <th>max</th>\n",
       "      <td>0.120090</td>\n",
       "      <td>0.142169</td>\n",
       "      <td>0.234414</td>\n",
       "      <td>0.147300</td>\n",
       "    </tr>\n",
       "  </tbody>\n",
       "</table>\n",
       "</div>"
      ],
      "text/plain": [
       "               PG        MSFT           F          GE\n",
       "count  253.000000  253.000000  253.000000  253.000000\n",
       "mean     0.000838    0.002085   -0.001066   -0.000303\n",
       "std      0.020731    0.024986    0.031377    0.037535\n",
       "min     -0.087373   -0.147390   -0.110124   -0.151592\n",
       "25%     -0.005818   -0.007277   -0.011506   -0.015284\n",
       "50%      0.001625    0.001828   -0.001091   -0.002527\n",
       "75%      0.008478    0.011154    0.008929    0.013488\n",
       "max      0.120090    0.142169    0.234414    0.147300"
      ]
     },
     "execution_count": 54,
     "metadata": {},
     "output_type": "execute_result"
    }
   ],
   "source": [
    "returns.describe()"
   ]
  },
  {
   "cell_type": "code",
   "execution_count": 55,
   "metadata": {},
   "outputs": [
    {
     "name": "stdout",
     "output_type": "stream",
     "text": [
      "<class 'pandas.core.frame.DataFrame'>\n",
      "DatetimeIndex: 254 entries, 2019-06-03 to 2020-06-03\n",
      "Data columns (total 4 columns):\n",
      " #   Column  Non-Null Count  Dtype  \n",
      "---  ------  --------------  -----  \n",
      " 0   PG      253 non-null    float64\n",
      " 1   MSFT    253 non-null    float64\n",
      " 2   F       253 non-null    float64\n",
      " 3   GE      253 non-null    float64\n",
      "dtypes: float64(4)\n",
      "memory usage: 19.9 KB\n"
     ]
    }
   ],
   "source": [
    "returns.info()"
   ]
  },
  {
   "cell_type": "code",
   "execution_count": 56,
   "metadata": {},
   "outputs": [],
   "source": [
    "#np.dot() calculates vector and matrix operations."
   ]
  },
  {
   "cell_type": "code",
   "execution_count": 57,
   "metadata": {},
   "outputs": [
    {
     "data": {
      "text/plain": [
       "array([            nan,  2.94394369e-02,  4.03742228e-03,  5.46774927e-03,\n",
       "        1.20066397e-02,  5.45862835e-03,  4.86207757e-03,  1.71976319e-03,\n",
       "        1.04411518e-02, -3.02864308e-03, -2.36241849e-03,  1.16638819e-02,\n",
       "       -5.53773152e-04,  1.23215912e-02, -5.94439142e-03, -1.75311218e-03,\n",
       "       -1.34735895e-02, -5.14713262e-04,  1.10049127e-02,  2.73203993e-03,\n",
       "        6.26525819e-03,  2.92426842e-03,  9.18224188e-03, -5.35738108e-03,\n",
       "       -5.33675017e-03, -3.65662984e-03,  2.44723478e-03,  2.15439026e-03,\n",
       "        1.60259046e-02, -3.01370437e-03,  2.44881879e-03, -1.52849276e-02,\n",
       "        1.11903306e-03, -2.52374886e-03,  7.42928698e-03,  1.29254139e-02,\n",
       "        4.45913626e-03, -2.50512257e-02,  8.57495445e-03, -8.95429736e-05,\n",
       "        1.03687086e-02, -1.43753392e-02, -1.41135091e-02, -5.51134815e-03,\n",
       "       -2.56256085e-02,  1.17846760e-02,  2.25271709e-03,  1.24063303e-02,\n",
       "       -1.53623099e-02, -1.20562557e-02,  1.52820948e-02, -2.62172395e-02,\n",
       "       -2.92333207e-02,  3.55601594e-02,  4.95084051e-03, -1.51633960e-02,\n",
       "       -9.13701012e-04, -4.38773511e-04, -2.65441327e-02,  1.20574927e-02,\n",
       "       -2.31506371e-03,  8.59579006e-03,  1.29541274e-02,  3.25580034e-03,\n",
       "       -4.34966665e-04,  2.35858038e-02,  7.57117605e-03, -4.30948809e-03,\n",
       "        8.26503812e-03, -5.42622079e-03,  8.98964562e-03,  2.72728169e-03,\n",
       "        1.80792598e-03, -9.55173340e-03,  3.81678159e-03,  2.29802880e-03,\n",
       "        2.62327868e-03, -1.59528209e-03,  3.93350881e-04, -1.36392868e-02,\n",
       "        1.01750668e-02, -2.50691472e-03, -3.80676149e-03,  1.41552057e-03,\n",
       "       -2.09139697e-02, -2.10549137e-02,  1.31681677e-02,  4.85913580e-03,\n",
       "       -6.15666478e-03, -1.87406485e-02,  9.60548065e-03,  6.21959744e-03,\n",
       "        1.42951070e-02, -3.51356543e-03,  9.64375380e-03, -1.06333634e-03,\n",
       "        3.42346467e-03,  4.47346868e-04, -2.46990767e-03,  1.15745767e-02,\n",
       "        9.33922006e-03, -1.31984148e-02,  3.21111532e-03,  5.40381115e-03,\n",
       "       -1.24395390e-03,  3.15983694e-02, -4.75510730e-03,  1.80764660e-02,\n",
       "        8.09620245e-03,  9.57897969e-04,  6.61260213e-04,  4.17708180e-03,\n",
       "        1.24244460e-02, -3.09887532e-03,  1.95742198e-03, -5.90592151e-03,\n",
       "        3.94449826e-04,  1.29517086e-02,  1.68055685e-03, -9.66342460e-04,\n",
       "       -5.80895983e-03, -1.72021457e-03,  5.68027474e-03,  6.94075644e-03,\n",
       "        2.65196420e-04,  6.30124379e-04, -2.46859397e-03, -5.49019395e-03,\n",
       "       -7.07054896e-03,  3.75678464e-03, -2.76740797e-03,  1.18742860e-02,\n",
       "       -2.02827599e-03,  5.38639422e-04,  1.92172182e-03,  1.88313656e-02,\n",
       "       -6.88703022e-04,  2.38299252e-03, -3.41465046e-03, -2.27027295e-03,\n",
       "        2.42274042e-03,  5.46970508e-03,  9.74322764e-04,  2.05939960e-03,\n",
       "        2.41481329e-03, -1.30014591e-03, -1.05408064e-02,  4.19456495e-03,\n",
       "        2.21215933e-02, -9.52936222e-03,  3.18624545e-03, -3.22434563e-03,\n",
       "        2.76554531e-03,  5.49989068e-03, -6.22231692e-03,  1.42110093e-02,\n",
       "       -2.64471966e-03, -1.85073915e-03,  3.62327783e-03,  1.16734149e-03,\n",
       "       -3.34118507e-03, -8.34011630e-03,  8.64536822e-03, -7.32293779e-03,\n",
       "       -1.19018799e-02,  1.41623526e-02,  2.88963555e-02,  4.20955825e-03,\n",
       "       -1.23940381e-02,  7.79758578e-03,  2.14214284e-02, -1.61458950e-02,\n",
       "        5.77859986e-03, -8.28939276e-03,  6.73522729e-03, -9.54775838e-03,\n",
       "        9.28842567e-03, -2.17145659e-03, -2.07810268e-03, -2.77470311e-03,\n",
       "       -2.71520532e-03, -2.19434023e-03, -1.76114067e-02, -3.55862318e-02,\n",
       "       -3.05283524e-02, -8.35393355e-03, -5.25784158e-02,  1.68900219e-02,\n",
       "        4.68141569e-02, -3.02319655e-02,  2.81244219e-02, -4.39055457e-02,\n",
       "       -3.29116906e-02, -8.28268140e-02,  6.15104143e-02, -6.23631157e-02,\n",
       "       -9.86996813e-02,  1.00087381e-01, -1.14484174e-01,  5.87923105e-02,\n",
       "       -5.45926037e-02, -1.61899430e-02, -3.46243908e-02, -4.82346982e-02,\n",
       "        1.32405091e-01,  3.37549137e-02,  4.36655825e-02, -2.20208309e-02,\n",
       "        2.96966697e-02, -2.31574881e-02, -6.09940189e-02,  9.52616649e-03,\n",
       "       -1.38567149e-02,  6.01952109e-02, -1.03695987e-02,  3.42600339e-02,\n",
       "        1.04785751e-02, -1.06054325e-02,  2.62662527e-02, -2.98816675e-02,\n",
       "       -6.39049156e-03,  4.19144803e-02, -3.20528942e-02, -2.39406874e-02,\n",
       "        5.97735067e-03,  8.43017256e-03, -7.72516058e-03,  1.86741179e-02,\n",
       "        1.72582494e-02, -2.03966490e-03,  4.47375537e-03, -2.80790059e-02,\n",
       "       -1.03346837e-02,  8.45808449e-03, -1.77103290e-02,  4.83083667e-03,\n",
       "        3.62540736e-02, -8.29102459e-03, -2.18202880e-02, -2.69577720e-02,\n",
       "        5.96166367e-03, -3.29989324e-03,  6.23162014e-02, -1.27040203e-02,\n",
       "        2.27516896e-02,  2.04539439e-03,  4.91448141e-04,  1.97092728e-02,\n",
       "        3.06293738e-02, -2.07528187e-02, -1.14782086e-02,  1.65304580e-02,\n",
       "        1.65737907e-02,  2.48846985e-02])"
      ]
     },
     "execution_count": 57,
     "metadata": {},
     "output_type": "execute_result"
    }
   ],
   "source": [
    "np.dot(returns, weights)#we need annual rate of returns"
   ]
  },
  {
   "cell_type": "code",
   "execution_count": 58,
   "metadata": {},
   "outputs": [
    {
     "data": {
      "text/plain": [
       "PG      0.209546\n",
       "MSFT    0.521369\n",
       "F      -0.266601\n",
       "GE     -0.075755\n",
       "dtype: float64"
      ]
     },
     "execution_count": 58,
     "metadata": {},
     "output_type": "execute_result"
    }
   ],
   "source": [
    "annual_returns = returns.mean() * 250\n",
    "annual_returns"
   ]
  },
  {
   "cell_type": "code",
   "execution_count": 59,
   "metadata": {},
   "outputs": [],
   "source": [
    "#np.dot(annual_returns, weights) 4*1 and 1*4 matrix"
   ]
  },
  {
   "cell_type": "code",
   "execution_count": 60,
   "metadata": {},
   "outputs": [
    {
     "data": {
      "text/plain": [
       "0.09713988837528781"
      ]
     },
     "execution_count": 60,
     "metadata": {},
     "output_type": "execute_result"
    }
   ],
   "source": [
    "np.dot(annual_returns, weights)"
   ]
  },
  {
   "cell_type": "code",
   "execution_count": 61,
   "metadata": {},
   "outputs": [],
   "source": [
    "pfolio_1= str(round(np.dot(annual_returns, weights), 4)*100) + '%'"
   ]
  },
  {
   "cell_type": "code",
   "execution_count": 62,
   "metadata": {},
   "outputs": [
    {
     "name": "stdout",
     "output_type": "stream",
     "text": [
      "9.71%\n"
     ]
    }
   ],
   "source": [
    "print (pfolio_1)"
   ]
  },
  {
   "cell_type": "code",
   "execution_count": 63,
   "metadata": {},
   "outputs": [
    {
     "data": {
      "text/plain": [
       "array([0.4 , 0.4 , 0.15, 0.05])"
      ]
     },
     "execution_count": 63,
     "metadata": {},
     "output_type": "execute_result"
    }
   ],
   "source": [
    "#for different weights(0.40, 0.40, 0.15, 0.05)\n",
    "weights_2=np.array([0.40,0.40,0.15,0.05])\n",
    "weights_2"
   ]
  },
  {
   "cell_type": "code",
   "execution_count": 64,
   "metadata": {},
   "outputs": [
    {
     "data": {
      "text/plain": [
       "0.24858833597506208"
      ]
     },
     "execution_count": 64,
     "metadata": {},
     "output_type": "execute_result"
    }
   ],
   "source": [
    "np.dot(annual_returns, weights_2)"
   ]
  },
  {
   "cell_type": "code",
   "execution_count": 65,
   "metadata": {},
   "outputs": [
    {
     "data": {
      "text/plain": [
       "'24.86%'"
      ]
     },
     "execution_count": 65,
     "metadata": {},
     "output_type": "execute_result"
    }
   ],
   "source": [
    "pfolio_2 = str(round(np.dot(annual_returns, weights_2), 4)*100) + '%'\n",
    "pfolio_2"
   ]
  },
  {
   "cell_type": "code",
   "execution_count": 66,
   "metadata": {},
   "outputs": [
    {
     "name": "stdout",
     "output_type": "stream",
     "text": [
      "9.71%\n",
      "24.86%\n"
     ]
    }
   ],
   "source": [
    "print(pfolio_1)\n",
    "print(pfolio_2)"
   ]
  },
  {
   "cell_type": "markdown",
   "metadata": {},
   "source": [
    "# Calculating the Return of Indices"
   ]
  },
  {
   "cell_type": "code",
   "execution_count": 72,
   "metadata": {},
   "outputs": [],
   "source": [
    "import numpy as np\n",
    "import pandas as pd\n",
    "from pandas_datareader import data as wb\n",
    "import matplotlib.pyplot as plt"
   ]
  },
  {
   "cell_type": "code",
   "execution_count": 73,
   "metadata": {},
   "outputs": [],
   "source": [
    "#GSPC=S&P500\n",
    "#IXIC=Nasdaq\n",
    "#GDAXI=German stock index\n",
    "#FTSE=Financial Times Stock Exchange(London Index)"
   ]
  },
  {
   "cell_type": "code",
   "execution_count": 79,
   "metadata": {},
   "outputs": [],
   "source": [
    "tickers=['^GSPC', '^IXIC', '^GDAXI']"
   ]
  },
  {
   "cell_type": "code",
   "execution_count": 80,
   "metadata": {},
   "outputs": [],
   "source": [
    "ind_data = pd.DataFrame()\n",
    "\n",
    "\n"
   ]
  },
  {
   "cell_type": "code",
   "execution_count": 102,
   "metadata": {},
   "outputs": [],
   "source": [
    "for t in tickers:\n",
    "    ind_data[t] = wb.DataReader(t, data_source='yahoo', start='2007-1-1')['Adj Close']\n"
   ]
  },
  {
   "cell_type": "code",
   "execution_count": 103,
   "metadata": {},
   "outputs": [
    {
     "data": {
      "text/html": [
       "<div>\n",
       "<style scoped>\n",
       "    .dataframe tbody tr th:only-of-type {\n",
       "        vertical-align: middle;\n",
       "    }\n",
       "\n",
       "    .dataframe tbody tr th {\n",
       "        vertical-align: top;\n",
       "    }\n",
       "\n",
       "    .dataframe thead th {\n",
       "        text-align: right;\n",
       "    }\n",
       "</style>\n",
       "<table border=\"1\" class=\"dataframe\">\n",
       "  <thead>\n",
       "    <tr style=\"text-align: right;\">\n",
       "      <th></th>\n",
       "      <th>^GSPC</th>\n",
       "      <th>^IXIC</th>\n",
       "      <th>^GDAXI</th>\n",
       "    </tr>\n",
       "    <tr>\n",
       "      <th>Date</th>\n",
       "      <th></th>\n",
       "      <th></th>\n",
       "      <th></th>\n",
       "    </tr>\n",
       "  </thead>\n",
       "  <tbody>\n",
       "    <tr>\n",
       "      <th>2020-05-28</th>\n",
       "      <td>3029.729980</td>\n",
       "      <td>9368.990234</td>\n",
       "      <td>11781.129883</td>\n",
       "    </tr>\n",
       "    <tr>\n",
       "      <th>2020-05-29</th>\n",
       "      <td>3044.310059</td>\n",
       "      <td>9489.870117</td>\n",
       "      <td>11586.849609</td>\n",
       "    </tr>\n",
       "    <tr>\n",
       "      <th>2020-06-01</th>\n",
       "      <td>3055.729980</td>\n",
       "      <td>9552.049805</td>\n",
       "      <td>NaN</td>\n",
       "    </tr>\n",
       "    <tr>\n",
       "      <th>2020-06-02</th>\n",
       "      <td>3080.820068</td>\n",
       "      <td>9608.379883</td>\n",
       "      <td>12021.280273</td>\n",
       "    </tr>\n",
       "    <tr>\n",
       "      <th>2020-06-03</th>\n",
       "      <td>3122.870117</td>\n",
       "      <td>9682.910156</td>\n",
       "      <td>12487.360352</td>\n",
       "    </tr>\n",
       "  </tbody>\n",
       "</table>\n",
       "</div>"
      ],
      "text/plain": [
       "                  ^GSPC        ^IXIC        ^GDAXI\n",
       "Date                                              \n",
       "2020-05-28  3029.729980  9368.990234  11781.129883\n",
       "2020-05-29  3044.310059  9489.870117  11586.849609\n",
       "2020-06-01  3055.729980  9552.049805           NaN\n",
       "2020-06-02  3080.820068  9608.379883  12021.280273\n",
       "2020-06-03  3122.870117  9682.910156  12487.360352"
      ]
     },
     "execution_count": 103,
     "metadata": {},
     "output_type": "execute_result"
    }
   ],
   "source": [
    "ind_data.tail()"
   ]
  },
  {
   "cell_type": "code",
   "execution_count": 104,
   "metadata": {},
   "outputs": [
    {
     "data": {
      "text/html": [
       "<div>\n",
       "<style scoped>\n",
       "    .dataframe tbody tr th:only-of-type {\n",
       "        vertical-align: middle;\n",
       "    }\n",
       "\n",
       "    .dataframe tbody tr th {\n",
       "        vertical-align: top;\n",
       "    }\n",
       "\n",
       "    .dataframe thead th {\n",
       "        text-align: right;\n",
       "    }\n",
       "</style>\n",
       "<table border=\"1\" class=\"dataframe\">\n",
       "  <thead>\n",
       "    <tr style=\"text-align: right;\">\n",
       "      <th></th>\n",
       "      <th>^GSPC</th>\n",
       "      <th>^IXIC</th>\n",
       "      <th>^GDAXI</th>\n",
       "    </tr>\n",
       "    <tr>\n",
       "      <th>Date</th>\n",
       "      <th></th>\n",
       "      <th></th>\n",
       "      <th></th>\n",
       "    </tr>\n",
       "  </thead>\n",
       "  <tbody>\n",
       "    <tr>\n",
       "      <th>2007-01-03</th>\n",
       "      <td>1416.599976</td>\n",
       "      <td>2423.159912</td>\n",
       "      <td>6691.319824</td>\n",
       "    </tr>\n",
       "    <tr>\n",
       "      <th>2007-01-04</th>\n",
       "      <td>1418.339966</td>\n",
       "      <td>2453.429932</td>\n",
       "      <td>6674.399902</td>\n",
       "    </tr>\n",
       "    <tr>\n",
       "      <th>2007-01-05</th>\n",
       "      <td>1409.709961</td>\n",
       "      <td>2434.250000</td>\n",
       "      <td>6593.089844</td>\n",
       "    </tr>\n",
       "    <tr>\n",
       "      <th>2007-01-08</th>\n",
       "      <td>1412.839966</td>\n",
       "      <td>2438.199951</td>\n",
       "      <td>6607.589844</td>\n",
       "    </tr>\n",
       "    <tr>\n",
       "      <th>2007-01-09</th>\n",
       "      <td>1412.109985</td>\n",
       "      <td>2443.830078</td>\n",
       "      <td>6614.370117</td>\n",
       "    </tr>\n",
       "  </tbody>\n",
       "</table>\n",
       "</div>"
      ],
      "text/plain": [
       "                  ^GSPC        ^IXIC       ^GDAXI\n",
       "Date                                             \n",
       "2007-01-03  1416.599976  2423.159912  6691.319824\n",
       "2007-01-04  1418.339966  2453.429932  6674.399902\n",
       "2007-01-05  1409.709961  2434.250000  6593.089844\n",
       "2007-01-08  1412.839966  2438.199951  6607.589844\n",
       "2007-01-09  1412.109985  2443.830078  6614.370117"
      ]
     },
     "execution_count": 104,
     "metadata": {},
     "output_type": "execute_result"
    }
   ],
   "source": [
    "ind_data.head()"
   ]
  },
  {
   "cell_type": "code",
   "execution_count": 105,
   "metadata": {},
   "outputs": [
    {
     "data": {
      "text/html": [
       "<div>\n",
       "<style scoped>\n",
       "    .dataframe tbody tr th:only-of-type {\n",
       "        vertical-align: middle;\n",
       "    }\n",
       "\n",
       "    .dataframe tbody tr th {\n",
       "        vertical-align: top;\n",
       "    }\n",
       "\n",
       "    .dataframe thead th {\n",
       "        text-align: right;\n",
       "    }\n",
       "</style>\n",
       "<table border=\"1\" class=\"dataframe\">\n",
       "  <thead>\n",
       "    <tr style=\"text-align: right;\">\n",
       "      <th></th>\n",
       "      <th>^GSPC</th>\n",
       "      <th>^IXIC</th>\n",
       "      <th>^GDAXI</th>\n",
       "    </tr>\n",
       "    <tr>\n",
       "      <th>Date</th>\n",
       "      <th></th>\n",
       "      <th></th>\n",
       "      <th></th>\n",
       "    </tr>\n",
       "  </thead>\n",
       "  <tbody>\n",
       "    <tr>\n",
       "      <th>2007-01-03</th>\n",
       "      <td>100.000000</td>\n",
       "      <td>100.000000</td>\n",
       "      <td>100.000000</td>\n",
       "    </tr>\n",
       "    <tr>\n",
       "      <th>2007-01-04</th>\n",
       "      <td>100.122829</td>\n",
       "      <td>101.249196</td>\n",
       "      <td>99.747136</td>\n",
       "    </tr>\n",
       "    <tr>\n",
       "      <th>2007-01-05</th>\n",
       "      <td>99.513623</td>\n",
       "      <td>100.457670</td>\n",
       "      <td>98.531979</td>\n",
       "    </tr>\n",
       "    <tr>\n",
       "      <th>2007-01-08</th>\n",
       "      <td>99.734575</td>\n",
       "      <td>100.620679</td>\n",
       "      <td>98.748678</td>\n",
       "    </tr>\n",
       "    <tr>\n",
       "      <th>2007-01-09</th>\n",
       "      <td>99.683045</td>\n",
       "      <td>100.853025</td>\n",
       "      <td>98.850007</td>\n",
       "    </tr>\n",
       "    <tr>\n",
       "      <th>...</th>\n",
       "      <td>...</td>\n",
       "      <td>...</td>\n",
       "      <td>...</td>\n",
       "    </tr>\n",
       "    <tr>\n",
       "      <th>2020-05-28</th>\n",
       "      <td>213.873361</td>\n",
       "      <td>386.643498</td>\n",
       "      <td>176.065861</td>\n",
       "    </tr>\n",
       "    <tr>\n",
       "      <th>2020-05-29</th>\n",
       "      <td>214.902591</td>\n",
       "      <td>391.632020</td>\n",
       "      <td>173.162394</td>\n",
       "    </tr>\n",
       "    <tr>\n",
       "      <th>2020-06-01</th>\n",
       "      <td>215.708742</td>\n",
       "      <td>394.198078</td>\n",
       "      <td>NaN</td>\n",
       "    </tr>\n",
       "    <tr>\n",
       "      <th>2020-06-02</th>\n",
       "      <td>217.479890</td>\n",
       "      <td>396.522732</td>\n",
       "      <td>179.654845</td>\n",
       "    </tr>\n",
       "    <tr>\n",
       "      <th>2020-06-03</th>\n",
       "      <td>220.448268</td>\n",
       "      <td>399.598479</td>\n",
       "      <td>186.620288</td>\n",
       "    </tr>\n",
       "  </tbody>\n",
       "</table>\n",
       "<p>3378 rows × 3 columns</p>\n",
       "</div>"
      ],
      "text/plain": [
       "                 ^GSPC       ^IXIC      ^GDAXI\n",
       "Date                                          \n",
       "2007-01-03  100.000000  100.000000  100.000000\n",
       "2007-01-04  100.122829  101.249196   99.747136\n",
       "2007-01-05   99.513623  100.457670   98.531979\n",
       "2007-01-08   99.734575  100.620679   98.748678\n",
       "2007-01-09   99.683045  100.853025   98.850007\n",
       "...                ...         ...         ...\n",
       "2020-05-28  213.873361  386.643498  176.065861\n",
       "2020-05-29  214.902591  391.632020  173.162394\n",
       "2020-06-01  215.708742  394.198078         NaN\n",
       "2020-06-02  217.479890  396.522732  179.654845\n",
       "2020-06-03  220.448268  399.598479  186.620288\n",
       "\n",
       "[3378 rows x 3 columns]"
      ]
     },
     "execution_count": 105,
     "metadata": {},
     "output_type": "execute_result"
    }
   ],
   "source": [
    "ind_data/ind_data.iloc[0]*100"
   ]
  },
  {
   "cell_type": "code",
   "execution_count": 106,
   "metadata": {},
   "outputs": [
    {
     "data": {
      "image/png": "[encoded data removed]",
      "text/plain": [
       "<Figure size 1080x432 with 1 Axes>"
      ]
     },
     "metadata": {
      "needs_background": "light"
     },
     "output_type": "display_data"
    }
   ],
   "source": [
    "#plotting\n",
    "(ind_data/ind_data.iloc[0]*100).plot(figsize=(15,6))\n",
    "plt.show()\n"
   ]
  },
  {
   "cell_type": "code",
   "execution_count": 107,
   "metadata": {},
   "outputs": [],
   "source": [
    "#interpretation: in 2008 recession and 2011 sovreign debt crisis, all are down but after recession, Nasdaq IT tech index has higher performance and consistency\n",
    "#overall in long term all indices are performing good\n"
   ]
  },
  {
   "cell_type": "code",
   "execution_count": 108,
   "metadata": {},
   "outputs": [],
   "source": [
    "ind_returns=(ind_data/ind_data.shift(1))-1"
   ]
  },
  {
   "cell_type": "code",
   "execution_count": 109,
   "metadata": {},
   "outputs": [
    {
     "data": {
      "text/html": [
       "<div>\n",
       "<style scoped>\n",
       "    .dataframe tbody tr th:only-of-type {\n",
       "        vertical-align: middle;\n",
       "    }\n",
       "\n",
       "    .dataframe tbody tr th {\n",
       "        vertical-align: top;\n",
       "    }\n",
       "\n",
       "    .dataframe thead th {\n",
       "        text-align: right;\n",
       "    }\n",
       "</style>\n",
       "<table border=\"1\" class=\"dataframe\">\n",
       "  <thead>\n",
       "    <tr style=\"text-align: right;\">\n",
       "      <th></th>\n",
       "      <th>^GSPC</th>\n",
       "      <th>^IXIC</th>\n",
       "      <th>^GDAXI</th>\n",
       "    </tr>\n",
       "    <tr>\n",
       "      <th>Date</th>\n",
       "      <th></th>\n",
       "      <th></th>\n",
       "      <th></th>\n",
       "    </tr>\n",
       "  </thead>\n",
       "  <tbody>\n",
       "    <tr>\n",
       "      <th>2007-01-03</th>\n",
       "      <td>NaN</td>\n",
       "      <td>NaN</td>\n",
       "      <td>NaN</td>\n",
       "    </tr>\n",
       "    <tr>\n",
       "      <th>2007-01-04</th>\n",
       "      <td>0.001228</td>\n",
       "      <td>0.012492</td>\n",
       "      <td>-0.002529</td>\n",
       "    </tr>\n",
       "    <tr>\n",
       "      <th>2007-01-05</th>\n",
       "      <td>-0.006085</td>\n",
       "      <td>-0.007818</td>\n",
       "      <td>-0.012182</td>\n",
       "    </tr>\n",
       "    <tr>\n",
       "      <th>2007-01-08</th>\n",
       "      <td>0.002220</td>\n",
       "      <td>0.001623</td>\n",
       "      <td>0.002199</td>\n",
       "    </tr>\n",
       "    <tr>\n",
       "      <th>2007-01-09</th>\n",
       "      <td>-0.000517</td>\n",
       "      <td>0.002309</td>\n",
       "      <td>0.001026</td>\n",
       "    </tr>\n",
       "  </tbody>\n",
       "</table>\n",
       "</div>"
      ],
      "text/plain": [
       "               ^GSPC     ^IXIC    ^GDAXI\n",
       "Date                                    \n",
       "2007-01-03       NaN       NaN       NaN\n",
       "2007-01-04  0.001228  0.012492 -0.002529\n",
       "2007-01-05 -0.006085 -0.007818 -0.012182\n",
       "2007-01-08  0.002220  0.001623  0.002199\n",
       "2007-01-09 -0.000517  0.002309  0.001026"
      ]
     },
     "execution_count": 109,
     "metadata": {},
     "output_type": "execute_result"
    }
   ],
   "source": [
    "ind_returns.head()"
   ]
  },
  {
   "cell_type": "code",
   "execution_count": 112,
   "metadata": {},
   "outputs": [
    {
     "data": {
      "text/plain": [
       "^GSPC     0.080206\n",
       "^IXIC     0.127279\n",
       "^GDAXI    0.059949\n",
       "dtype: float64"
      ]
     },
     "execution_count": 112,
     "metadata": {},
     "output_type": "execute_result"
    }
   ],
   "source": [
    "annaul_returns = ind_returns.mean()*250\n",
    "annaul_returns#all indices are positive"
   ]
  },
  {
   "cell_type": "code",
   "execution_count": 113,
   "metadata": {},
   "outputs": [],
   "source": [
    "#Nasdaq surpasses both"
   ]
  },
  {
   "cell_type": "markdown",
   "metadata": {},
   "source": [
    "# Comparing PG stock with indices"
   ]
  },
  {
   "cell_type": "code",
   "execution_count": 118,
   "metadata": {},
   "outputs": [],
   "source": [
    "tickers=['PG', '^GSPC', '^IXIC', '^GDAXI']\n",
    "data_2=pd.DataFrame()\n",
    "for t in tickers:\n",
    "    data_2[t]=wb.DataReader(t, data_source='yahoo', start='2007-01-01')['Adj Close']\n"
   ]
  },
  {
   "cell_type": "code",
   "execution_count": 119,
   "metadata": {},
   "outputs": [
    {
     "data": {
      "text/html": [
       "<div>\n",
       "<style scoped>\n",
       "    .dataframe tbody tr th:only-of-type {\n",
       "        vertical-align: middle;\n",
       "    }\n",
       "\n",
       "    .dataframe tbody tr th {\n",
       "        vertical-align: top;\n",
       "    }\n",
       "\n",
       "    .dataframe thead th {\n",
       "        text-align: right;\n",
       "    }\n",
       "</style>\n",
       "<table border=\"1\" class=\"dataframe\">\n",
       "  <thead>\n",
       "    <tr style=\"text-align: right;\">\n",
       "      <th></th>\n",
       "      <th>PG</th>\n",
       "      <th>^GSPC</th>\n",
       "      <th>^IXIC</th>\n",
       "      <th>^GDAXI</th>\n",
       "    </tr>\n",
       "    <tr>\n",
       "      <th>Date</th>\n",
       "      <th></th>\n",
       "      <th></th>\n",
       "      <th></th>\n",
       "      <th></th>\n",
       "    </tr>\n",
       "  </thead>\n",
       "  <tbody>\n",
       "    <tr>\n",
       "      <th>2007-01-03</th>\n",
       "      <td>43.147480</td>\n",
       "      <td>1416.599976</td>\n",
       "      <td>2423.159912</td>\n",
       "      <td>6691.319824</td>\n",
       "    </tr>\n",
       "    <tr>\n",
       "      <th>2007-01-04</th>\n",
       "      <td>42.819897</td>\n",
       "      <td>1418.339966</td>\n",
       "      <td>2453.429932</td>\n",
       "      <td>6674.399902</td>\n",
       "    </tr>\n",
       "    <tr>\n",
       "      <th>2007-01-05</th>\n",
       "      <td>42.452206</td>\n",
       "      <td>1409.709961</td>\n",
       "      <td>2434.250000</td>\n",
       "      <td>6593.089844</td>\n",
       "    </tr>\n",
       "    <tr>\n",
       "      <th>2007-01-08</th>\n",
       "      <td>42.545799</td>\n",
       "      <td>1412.839966</td>\n",
       "      <td>2438.199951</td>\n",
       "      <td>6607.589844</td>\n",
       "    </tr>\n",
       "    <tr>\n",
       "      <th>2007-01-09</th>\n",
       "      <td>42.438835</td>\n",
       "      <td>1412.109985</td>\n",
       "      <td>2443.830078</td>\n",
       "      <td>6614.370117</td>\n",
       "    </tr>\n",
       "  </tbody>\n",
       "</table>\n",
       "</div>"
      ],
      "text/plain": [
       "                   PG        ^GSPC        ^IXIC       ^GDAXI\n",
       "Date                                                        \n",
       "2007-01-03  43.147480  1416.599976  2423.159912  6691.319824\n",
       "2007-01-04  42.819897  1418.339966  2453.429932  6674.399902\n",
       "2007-01-05  42.452206  1409.709961  2434.250000  6593.089844\n",
       "2007-01-08  42.545799  1412.839966  2438.199951  6607.589844\n",
       "2007-01-09  42.438835  1412.109985  2443.830078  6614.370117"
      ]
     },
     "execution_count": 119,
     "metadata": {},
     "output_type": "execute_result"
    }
   ],
   "source": [
    "data_2.head()"
   ]
  },
  {
   "cell_type": "code",
   "execution_count": 120,
   "metadata": {},
   "outputs": [
    {
     "data": {
      "text/html": [
       "<div>\n",
       "<style scoped>\n",
       "    .dataframe tbody tr th:only-of-type {\n",
       "        vertical-align: middle;\n",
       "    }\n",
       "\n",
       "    .dataframe tbody tr th {\n",
       "        vertical-align: top;\n",
       "    }\n",
       "\n",
       "    .dataframe thead th {\n",
       "        text-align: right;\n",
       "    }\n",
       "</style>\n",
       "<table border=\"1\" class=\"dataframe\">\n",
       "  <thead>\n",
       "    <tr style=\"text-align: right;\">\n",
       "      <th></th>\n",
       "      <th>PG</th>\n",
       "      <th>^GSPC</th>\n",
       "      <th>^IXIC</th>\n",
       "      <th>^GDAXI</th>\n",
       "    </tr>\n",
       "    <tr>\n",
       "      <th>Date</th>\n",
       "      <th></th>\n",
       "      <th></th>\n",
       "      <th></th>\n",
       "      <th></th>\n",
       "    </tr>\n",
       "  </thead>\n",
       "  <tbody>\n",
       "    <tr>\n",
       "      <th>2007-01-03</th>\n",
       "      <td>100.000000</td>\n",
       "      <td>100.000000</td>\n",
       "      <td>100.000000</td>\n",
       "      <td>100.000000</td>\n",
       "    </tr>\n",
       "    <tr>\n",
       "      <th>2007-01-04</th>\n",
       "      <td>99.240782</td>\n",
       "      <td>100.122829</td>\n",
       "      <td>101.249196</td>\n",
       "      <td>99.747136</td>\n",
       "    </tr>\n",
       "    <tr>\n",
       "      <th>2007-01-05</th>\n",
       "      <td>98.388610</td>\n",
       "      <td>99.513623</td>\n",
       "      <td>100.457670</td>\n",
       "      <td>98.531979</td>\n",
       "    </tr>\n",
       "    <tr>\n",
       "      <th>2007-01-08</th>\n",
       "      <td>98.605525</td>\n",
       "      <td>99.734575</td>\n",
       "      <td>100.620679</td>\n",
       "      <td>98.748678</td>\n",
       "    </tr>\n",
       "    <tr>\n",
       "      <th>2007-01-09</th>\n",
       "      <td>98.357622</td>\n",
       "      <td>99.683045</td>\n",
       "      <td>100.853025</td>\n",
       "      <td>98.850007</td>\n",
       "    </tr>\n",
       "    <tr>\n",
       "      <th>...</th>\n",
       "      <td>...</td>\n",
       "      <td>...</td>\n",
       "      <td>...</td>\n",
       "      <td>...</td>\n",
       "    </tr>\n",
       "    <tr>\n",
       "      <th>2020-05-28</th>\n",
       "      <td>268.984417</td>\n",
       "      <td>213.873361</td>\n",
       "      <td>386.643498</td>\n",
       "      <td>176.065861</td>\n",
       "    </tr>\n",
       "    <tr>\n",
       "      <th>2020-05-29</th>\n",
       "      <td>268.659950</td>\n",
       "      <td>214.902591</td>\n",
       "      <td>391.632020</td>\n",
       "      <td>173.162394</td>\n",
       "    </tr>\n",
       "    <tr>\n",
       "      <th>2020-06-01</th>\n",
       "      <td>271.742405</td>\n",
       "      <td>215.708742</td>\n",
       "      <td>394.198078</td>\n",
       "      <td>NaN</td>\n",
       "    </tr>\n",
       "    <tr>\n",
       "      <th>2020-06-02</th>\n",
       "      <td>273.619682</td>\n",
       "      <td>217.479890</td>\n",
       "      <td>396.522732</td>\n",
       "      <td>179.654845</td>\n",
       "    </tr>\n",
       "    <tr>\n",
       "      <th>2020-06-03</th>\n",
       "      <td>274.708972</td>\n",
       "      <td>220.448268</td>\n",
       "      <td>399.598479</td>\n",
       "      <td>186.620288</td>\n",
       "    </tr>\n",
       "  </tbody>\n",
       "</table>\n",
       "<p>3378 rows × 4 columns</p>\n",
       "</div>"
      ],
      "text/plain": [
       "                    PG       ^GSPC       ^IXIC      ^GDAXI\n",
       "Date                                                      \n",
       "2007-01-03  100.000000  100.000000  100.000000  100.000000\n",
       "2007-01-04   99.240782  100.122829  101.249196   99.747136\n",
       "2007-01-05   98.388610   99.513623  100.457670   98.531979\n",
       "2007-01-08   98.605525   99.734575  100.620679   98.748678\n",
       "2007-01-09   98.357622   99.683045  100.853025   98.850007\n",
       "...                ...         ...         ...         ...\n",
       "2020-05-28  268.984417  213.873361  386.643498  176.065861\n",
       "2020-05-29  268.659950  214.902591  391.632020  173.162394\n",
       "2020-06-01  271.742405  215.708742  394.198078         NaN\n",
       "2020-06-02  273.619682  217.479890  396.522732  179.654845\n",
       "2020-06-03  274.708972  220.448268  399.598479  186.620288\n",
       "\n",
       "[3378 rows x 4 columns]"
      ]
     },
     "execution_count": 120,
     "metadata": {},
     "output_type": "execute_result"
    }
   ],
   "source": [
    " #normalize to 100 for comparison\n",
    "data_2/data_2.iloc[0]*100"
   ]
  },
  {
   "cell_type": "code",
   "execution_count": 121,
   "metadata": {},
   "outputs": [],
   "source": [
    "#ploting "
   ]
  },
  {
   "cell_type": "code",
   "execution_count": 123,
   "metadata": {},
   "outputs": [
    {
     "data": {
      "image/png": "[encoded data removed]",
      "text/plain": [
       "<Figure size 1080x648 with 1 Axes>"
      ]
     },
     "metadata": {
      "needs_background": "light"
     },
     "output_type": "display_data"
    }
   ],
   "source": [
    "(data_2/data_2.iloc[0]*100).plot(figsize = (15,9))\n",
    "plt.show()"
   ]
  },
  {
   "cell_type": "code",
   "execution_count": null,
   "metadata": {},
   "outputs": [],
   "source": [
    "#interpretation: PG is performing better than GSPC and GDAXI"
   ]
  },
  {
   "cell_type": "markdown",
   "metadata": {},
   "source": [
    "# Calculating the risk of a security"
   ]
  },
  {
   "cell_type": "code",
   "execution_count": null,
   "metadata": {},
   "outputs": [],
   "source": [
    "import numpy as np\n",
    "import pandas as pd\n",
    "from pandas_datareader import data as wb\n",
    "import matplotlib.pyplot as plt\n",
    "%matplotlib inline"
   ]
  },
  {
   "cell_type": "code",
   "execution_count": null,
   "metadata": {},
   "outputs": [],
   "source": [
    "#calculating the risk of two securities i.e PG and BEI.DE"
   ]
  },
  {
   "cell_type": "code",
   "execution_count": 153,
   "metadata": {},
   "outputs": [],
   "source": [
    "tickers = ['RELIANCE.NS', 'TTM']\n",
    "sec_data= pd.DataFrame()\n",
    "\n",
    "for t in tickers:\n",
    "    sec_data[t] = wb.DataReader(t, data_source='yahoo', start = '2004-09-27')['Adj Close']\n",
    "\n"
   ]
  },
  {
   "cell_type": "code",
   "execution_count": 154,
   "metadata": {},
   "outputs": [
    {
     "data": {
      "text/html": [
       "<div>\n",
       "<style scoped>\n",
       "    .dataframe tbody tr th:only-of-type {\n",
       "        vertical-align: middle;\n",
       "    }\n",
       "\n",
       "    .dataframe tbody tr th {\n",
       "        vertical-align: top;\n",
       "    }\n",
       "\n",
       "    .dataframe thead th {\n",
       "        text-align: right;\n",
       "    }\n",
       "</style>\n",
       "<table border=\"1\" class=\"dataframe\">\n",
       "  <thead>\n",
       "    <tr style=\"text-align: right;\">\n",
       "      <th></th>\n",
       "      <th>RELIANCE.NS</th>\n",
       "      <th>TTM</th>\n",
       "    </tr>\n",
       "    <tr>\n",
       "      <th>Date</th>\n",
       "      <th></th>\n",
       "      <th></th>\n",
       "    </tr>\n",
       "  </thead>\n",
       "  <tbody>\n",
       "    <tr>\n",
       "      <th>2004-09-27</th>\n",
       "      <td>53.373577</td>\n",
       "      <td>7.724547</td>\n",
       "    </tr>\n",
       "    <tr>\n",
       "      <th>2004-09-28</th>\n",
       "      <td>53.470577</td>\n",
       "      <td>7.395305</td>\n",
       "    </tr>\n",
       "    <tr>\n",
       "      <th>2004-09-29</th>\n",
       "      <td>55.409828</td>\n",
       "      <td>7.386862</td>\n",
       "    </tr>\n",
       "    <tr>\n",
       "      <th>2004-09-30</th>\n",
       "      <td>55.797745</td>\n",
       "      <td>7.572589</td>\n",
       "    </tr>\n",
       "    <tr>\n",
       "      <th>2004-10-01</th>\n",
       "      <td>57.451477</td>\n",
       "      <td>7.808968</td>\n",
       "    </tr>\n",
       "  </tbody>\n",
       "</table>\n",
       "</div>"
      ],
      "text/plain": [
       "            RELIANCE.NS       TTM\n",
       "Date                             \n",
       "2004-09-27    53.373577  7.724547\n",
       "2004-09-28    53.470577  7.395305\n",
       "2004-09-29    55.409828  7.386862\n",
       "2004-09-30    55.797745  7.572589\n",
       "2004-10-01    57.451477  7.808968"
      ]
     },
     "execution_count": 154,
     "metadata": {},
     "output_type": "execute_result"
    }
   ],
   "source": [
    "sec_data.head()"
   ]
  },
  {
   "cell_type": "code",
   "execution_count": 155,
   "metadata": {},
   "outputs": [],
   "source": [
    "sec_returns=np.log(sec_data/sec_data.shift(1))#using log returns for daily returns"
   ]
  },
  {
   "cell_type": "code",
   "execution_count": 166,
   "metadata": {},
   "outputs": [
    {
     "data": {
      "text/html": [
       "<div>\n",
       "<style scoped>\n",
       "    .dataframe tbody tr th:only-of-type {\n",
       "        vertical-align: middle;\n",
       "    }\n",
       "\n",
       "    .dataframe tbody tr th {\n",
       "        vertical-align: top;\n",
       "    }\n",
       "\n",
       "    .dataframe thead th {\n",
       "        text-align: right;\n",
       "    }\n",
       "</style>\n",
       "<table border=\"1\" class=\"dataframe\">\n",
       "  <thead>\n",
       "    <tr style=\"text-align: right;\">\n",
       "      <th></th>\n",
       "      <th>RELIANCE.NS</th>\n",
       "      <th>TTM</th>\n",
       "    </tr>\n",
       "    <tr>\n",
       "      <th>Date</th>\n",
       "      <th></th>\n",
       "      <th></th>\n",
       "    </tr>\n",
       "  </thead>\n",
       "  <tbody>\n",
       "    <tr>\n",
       "      <th>2004-09-27</th>\n",
       "      <td>NaN</td>\n",
       "      <td>NaN</td>\n",
       "    </tr>\n",
       "    <tr>\n",
       "      <th>2004-09-28</th>\n",
       "      <td>0.001816</td>\n",
       "      <td>-0.043558</td>\n",
       "    </tr>\n",
       "    <tr>\n",
       "      <th>2004-09-29</th>\n",
       "      <td>0.035625</td>\n",
       "      <td>-0.001142</td>\n",
       "    </tr>\n",
       "    <tr>\n",
       "      <th>2004-09-30</th>\n",
       "      <td>0.006976</td>\n",
       "      <td>0.024832</td>\n",
       "    </tr>\n",
       "    <tr>\n",
       "      <th>2004-10-01</th>\n",
       "      <td>0.029207</td>\n",
       "      <td>0.030738</td>\n",
       "    </tr>\n",
       "    <tr>\n",
       "      <th>...</th>\n",
       "      <td>...</td>\n",
       "      <td>...</td>\n",
       "    </tr>\n",
       "    <tr>\n",
       "      <th>2020-05-29</th>\n",
       "      <td>-0.005346</td>\n",
       "      <td>-0.006981</td>\n",
       "    </tr>\n",
       "    <tr>\n",
       "      <th>2020-06-01</th>\n",
       "      <td>0.037495</td>\n",
       "      <td>0.059491</td>\n",
       "    </tr>\n",
       "    <tr>\n",
       "      <th>2020-06-02</th>\n",
       "      <td>0.010046</td>\n",
       "      <td>0.086874</td>\n",
       "    </tr>\n",
       "    <tr>\n",
       "      <th>2020-06-03</th>\n",
       "      <td>0.003867</td>\n",
       "      <td>0.029808</td>\n",
       "    </tr>\n",
       "    <tr>\n",
       "      <th>2020-06-04</th>\n",
       "      <td>0.024445</td>\n",
       "      <td>NaN</td>\n",
       "    </tr>\n",
       "  </tbody>\n",
       "</table>\n",
       "<p>3858 rows × 2 columns</p>\n",
       "</div>"
      ],
      "text/plain": [
       "            RELIANCE.NS       TTM\n",
       "Date                             \n",
       "2004-09-27          NaN       NaN\n",
       "2004-09-28     0.001816 -0.043558\n",
       "2004-09-29     0.035625 -0.001142\n",
       "2004-09-30     0.006976  0.024832\n",
       "2004-10-01     0.029207  0.030738\n",
       "...                 ...       ...\n",
       "2020-05-29    -0.005346 -0.006981\n",
       "2020-06-01     0.037495  0.059491\n",
       "2020-06-02     0.010046  0.086874\n",
       "2020-06-03     0.003867  0.029808\n",
       "2020-06-04     0.024445       NaN\n",
       "\n",
       "[3858 rows x 2 columns]"
      ]
     },
     "execution_count": 166,
     "metadata": {},
     "output_type": "execute_result"
    }
   ],
   "source": [
    "sec_returns\n"
   ]
  },
  {
   "cell_type": "markdown",
   "metadata": {},
   "source": [
    "# RELIANCE"
   ]
  },
  {
   "cell_type": "code",
   "execution_count": 167,
   "metadata": {},
   "outputs": [
    {
     "data": {
      "text/plain": [
       "0.0008783349115003712"
      ]
     },
     "execution_count": 167,
     "metadata": {},
     "output_type": "execute_result"
    }
   ],
   "source": [
    "sec_returns[\"RELIANCE.NS\"].mean() #average daily returns"
   ]
  },
  {
   "cell_type": "code",
   "execution_count": 168,
   "metadata": {},
   "outputs": [
    {
     "data": {
      "text/plain": [
       "0.2195837278750928"
      ]
     },
     "execution_count": 168,
     "metadata": {},
     "output_type": "execute_result"
    }
   ],
   "source": [
    "sec_returns['RELIANCE.NS'].mean()*250# annaul returns with 250 is working days"
   ]
  },
  {
   "cell_type": "code",
   "execution_count": 169,
   "metadata": {},
   "outputs": [
    {
     "data": {
      "text/plain": [
       "0.0007045143554658782"
      ]
     },
     "execution_count": 169,
     "metadata": {},
     "output_type": "execute_result"
    }
   ],
   "source": [
    "sec_returns['RELIANCE.NS'].var()#volatility/dispersion of data around mean(always positive)"
   ]
  },
  {
   "cell_type": "code",
   "execution_count": 190,
   "metadata": {},
   "outputs": [
    {
     "data": {
      "text/plain": [
       "0.17612858886646957"
      ]
     },
     "execution_count": 190,
     "metadata": {},
     "output_type": "execute_result"
    }
   ],
   "source": [
    "sec_returns['RELIANCE.NS'].var()*250"
   ]
  },
  {
   "cell_type": "code",
   "execution_count": 170,
   "metadata": {},
   "outputs": [
    {
     "data": {
      "text/plain": [
       "6.635672325892636"
      ]
     },
     "execution_count": 170,
     "metadata": {},
     "output_type": "execute_result"
    }
   ],
   "source": [
    "sec_returns['RELIANCE.NS'].std()*250"
   ]
  },
  {
   "cell_type": "code",
   "execution_count": 171,
   "metadata": {},
   "outputs": [
    {
     "data": {
      "text/plain": [
       "0.025892450175174265"
      ]
     },
     "execution_count": 171,
     "metadata": {},
     "output_type": "execute_result"
    }
   ],
   "source": [
    "np.sqrt(0.0006704189760738819)"
   ]
  },
  {
   "cell_type": "code",
   "execution_count": 172,
   "metadata": {},
   "outputs": [
    {
     "data": {
      "text/plain": [
       "0.4196767671273567"
      ]
     },
     "execution_count": 172,
     "metadata": {},
     "output_type": "execute_result"
    }
   ],
   "source": [
    "risk_Rel=np.sqrt(sec_returns['RELIANCE.NS'].var()*250)#standard deviation \n",
    "risk_Rel"
   ]
  },
  {
   "cell_type": "code",
   "execution_count": 173,
   "metadata": {},
   "outputs": [
    {
     "data": {
      "text/plain": [
       "0.41967676712735663"
      ]
     },
     "execution_count": 173,
     "metadata": {},
     "output_type": "execute_result"
    }
   ],
   "source": [
    "#same can be obtained\n",
    "sec_returns['RELIANCE.NS'].std()*250**0.5"
   ]
  },
  {
   "cell_type": "markdown",
   "metadata": {},
   "source": [
    "# Tata TTM"
   ]
  },
  {
   "cell_type": "code",
   "execution_count": 164,
   "metadata": {},
   "outputs": [
    {
     "data": {
      "text/plain": [
       "-0.00011287203750950986"
      ]
     },
     "execution_count": 164,
     "metadata": {},
     "output_type": "execute_result"
    }
   ],
   "source": [
    "sec_returns['TTM'].mean()#average daily returns"
   ]
  },
  {
   "cell_type": "code",
   "execution_count": 174,
   "metadata": {},
   "outputs": [
    {
     "data": {
      "text/plain": [
       "-0.028218009377377465"
      ]
     },
     "execution_count": 174,
     "metadata": {},
     "output_type": "execute_result"
    }
   ],
   "source": [
    "sec_returns['TTM'].mean()*250#annaul returns"
   ]
  },
  {
   "cell_type": "code",
   "execution_count": 175,
   "metadata": {},
   "outputs": [
    {
     "data": {
      "text/plain": [
       "0.0008979141518083564"
      ]
     },
     "execution_count": 175,
     "metadata": {},
     "output_type": "execute_result"
    }
   ],
   "source": [
    "sec_returns['TTM'].var()"
   ]
  },
  {
   "cell_type": "code",
   "execution_count": 176,
   "metadata": {},
   "outputs": [
    {
     "data": {
      "text/plain": [
       "0.2244785379520891"
      ]
     },
     "execution_count": 176,
     "metadata": {},
     "output_type": "execute_result"
    }
   ],
   "source": [
    "sec_returns['TTM'].var()*250"
   ]
  },
  {
   "cell_type": "code",
   "execution_count": 178,
   "metadata": {},
   "outputs": [
    {
     "data": {
      "text/plain": [
       "0.47379166091446684"
      ]
     },
     "execution_count": 178,
     "metadata": {},
     "output_type": "execute_result"
    }
   ],
   "source": [
    "risk_ttm=np.sqrt(sec_returns['TTM'].var()*250)#standard deviation\n",
    "risk_ttm"
   ]
  },
  {
   "cell_type": "code",
   "execution_count": 185,
   "metadata": {},
   "outputs": [
    {
     "name": "stdout",
     "output_type": "stream",
     "text": [
      "0.2195837278750928\n",
      "-0.028218009377377465\n"
     ]
    }
   ],
   "source": [
    "#both annual average returns\n",
    "print(sec_returns['RELIANCE.NS'].mean()*250)\n",
    "print(sec_returns['TTM'].mean()*250)"
   ]
  },
  {
   "cell_type": "code",
   "execution_count": 186,
   "metadata": {},
   "outputs": [
    {
     "data": {
      "text/plain": [
       "RELIANCE.NS    0.219584\n",
       "TTM           -0.028218\n",
       "dtype: float64"
      ]
     },
     "execution_count": 186,
     "metadata": {},
     "output_type": "execute_result"
    }
   ],
   "source": [
    "#OR \n",
    "sec_returns[['RELIANCE.NS', 'TTM']].mean()*250#used double bracket for 2dimension"
   ]
  },
  {
   "cell_type": "code",
   "execution_count": 179,
   "metadata": {},
   "outputs": [
    {
     "name": "stdout",
     "output_type": "stream",
     "text": [
      "0.4196767671273567\n",
      "0.47379166091446684\n"
     ]
    }
   ],
   "source": [
    "#both risk together\n",
    "print(risk_Rel)\n",
    "print(risk_ttm)"
   ]
  },
  {
   "cell_type": "code",
   "execution_count": 184,
   "metadata": {},
   "outputs": [
    {
     "name": "stdout",
     "output_type": "stream",
     "text": [
      "0.4196767671273567 0.47379166091446684\n"
     ]
    }
   ],
   "source": [
    "#or\n",
    "print(risk_Rel, risk_ttm)"
   ]
  },
  {
   "cell_type": "code",
   "execution_count": null,
   "metadata": {},
   "outputs": [],
   "source": [
    "#interpretation: ttm is slighly volatile and risky as compared to reliance"
   ]
  },
  {
   "cell_type": "markdown",
   "metadata": {},
   "source": [
    "# Calculating covariance and correlation"
   ]
  },
  {
   "cell_type": "code",
   "execution_count": 188,
   "metadata": {},
   "outputs": [
    {
     "data": {
      "text/html": [
       "<div>\n",
       "<style scoped>\n",
       "    .dataframe tbody tr th:only-of-type {\n",
       "        vertical-align: middle;\n",
       "    }\n",
       "\n",
       "    .dataframe tbody tr th {\n",
       "        vertical-align: top;\n",
       "    }\n",
       "\n",
       "    .dataframe thead th {\n",
       "        text-align: right;\n",
       "    }\n",
       "</style>\n",
       "<table border=\"1\" class=\"dataframe\">\n",
       "  <thead>\n",
       "    <tr style=\"text-align: right;\">\n",
       "      <th></th>\n",
       "      <th>RELIANCE.NS</th>\n",
       "      <th>TTM</th>\n",
       "    </tr>\n",
       "  </thead>\n",
       "  <tbody>\n",
       "    <tr>\n",
       "      <th>RELIANCE.NS</th>\n",
       "      <td>0.000705</td>\n",
       "      <td>0.000242</td>\n",
       "    </tr>\n",
       "    <tr>\n",
       "      <th>TTM</th>\n",
       "      <td>0.000242</td>\n",
       "      <td>0.000898</td>\n",
       "    </tr>\n",
       "  </tbody>\n",
       "</table>\n",
       "</div>"
      ],
      "text/plain": [
       "             RELIANCE.NS       TTM\n",
       "RELIANCE.NS     0.000705  0.000242\n",
       "TTM             0.000242  0.000898"
      ]
     },
     "execution_count": 188,
     "metadata": {},
     "output_type": "execute_result"
    }
   ],
   "source": [
    "cov_matrix=sec_returns.cov()\n",
    "cov_matrix"
   ]
  },
  {
   "cell_type": "code",
   "execution_count": 189,
   "metadata": {},
   "outputs": [
    {
     "data": {
      "text/html": [
       "<div>\n",
       "<style scoped>\n",
       "    .dataframe tbody tr th:only-of-type {\n",
       "        vertical-align: middle;\n",
       "    }\n",
       "\n",
       "    .dataframe tbody tr th {\n",
       "        vertical-align: top;\n",
       "    }\n",
       "\n",
       "    .dataframe thead th {\n",
       "        text-align: right;\n",
       "    }\n",
       "</style>\n",
       "<table border=\"1\" class=\"dataframe\">\n",
       "  <thead>\n",
       "    <tr style=\"text-align: right;\">\n",
       "      <th></th>\n",
       "      <th>RELIANCE.NS</th>\n",
       "      <th>TTM</th>\n",
       "    </tr>\n",
       "  </thead>\n",
       "  <tbody>\n",
       "    <tr>\n",
       "      <th>RELIANCE.NS</th>\n",
       "      <td>0.176129</td>\n",
       "      <td>0.060612</td>\n",
       "    </tr>\n",
       "    <tr>\n",
       "      <th>TTM</th>\n",
       "      <td>0.060612</td>\n",
       "      <td>0.224479</td>\n",
       "    </tr>\n",
       "  </tbody>\n",
       "</table>\n",
       "</div>"
      ],
      "text/plain": [
       "             RELIANCE.NS       TTM\n",
       "RELIANCE.NS     0.176129  0.060612\n",
       "TTM             0.060612  0.224479"
      ]
     },
     "execution_count": 189,
     "metadata": {},
     "output_type": "execute_result"
    }
   ],
   "source": [
    "#annual cov matrix\n",
    "cov_matrix_a=sec_returns.cov()*250\n",
    "cov_matrix_a"
   ]
  },
  {
   "cell_type": "code",
   "execution_count": 193,
   "metadata": {},
   "outputs": [
    {
     "data": {
      "text/plain": [
       "0.17612858886646957"
      ]
     },
     "execution_count": 193,
     "metadata": {},
     "output_type": "execute_result"
    }
   ],
   "source": [
    "#checking the same\n",
    "sec_returns['RELIANCE.NS'].var()*250\n"
   ]
  },
  {
   "cell_type": "code",
   "execution_count": 194,
   "metadata": {},
   "outputs": [
    {
     "data": {
      "text/plain": [
       "0.2244785379520891"
      ]
     },
     "execution_count": 194,
     "metadata": {},
     "output_type": "execute_result"
    }
   ],
   "source": [
    "sec_returns['TTM'].var()*250"
   ]
  },
  {
   "cell_type": "code",
   "execution_count": 196,
   "metadata": {},
   "outputs": [
    {
     "data": {
      "text/html": [
       "<div>\n",
       "<style scoped>\n",
       "    .dataframe tbody tr th:only-of-type {\n",
       "        vertical-align: middle;\n",
       "    }\n",
       "\n",
       "    .dataframe tbody tr th {\n",
       "        vertical-align: top;\n",
       "    }\n",
       "\n",
       "    .dataframe thead th {\n",
       "        text-align: right;\n",
       "    }\n",
       "</style>\n",
       "<table border=\"1\" class=\"dataframe\">\n",
       "  <thead>\n",
       "    <tr style=\"text-align: right;\">\n",
       "      <th></th>\n",
       "      <th>RELIANCE.NS</th>\n",
       "      <th>TTM</th>\n",
       "    </tr>\n",
       "  </thead>\n",
       "  <tbody>\n",
       "    <tr>\n",
       "      <th>RELIANCE.NS</th>\n",
       "      <td>1.000000</td>\n",
       "      <td>0.377491</td>\n",
       "    </tr>\n",
       "    <tr>\n",
       "      <th>TTM</th>\n",
       "      <td>0.377491</td>\n",
       "      <td>1.000000</td>\n",
       "    </tr>\n",
       "  </tbody>\n",
       "</table>\n",
       "</div>"
      ],
      "text/plain": [
       "             RELIANCE.NS       TTM\n",
       "RELIANCE.NS     1.000000  0.377491\n",
       "TTM             0.377491  1.000000"
      ]
     },
     "execution_count": 196,
     "metadata": {},
     "output_type": "execute_result"
    }
   ],
   "source": [
    "#CORRELATION\n",
    "corr_matrix=sec_returns.corr()\n",
    "corr_matrix"
   ]
  },
  {
   "cell_type": "code",
   "execution_count": null,
   "metadata": {},
   "outputs": [],
   "source": [
    "#corr of sec_returns(not stock price) in between REL and TTM is 0.37\n",
    "#dont multiply by 250 to correlation to annualize"
   ]
  },
  {
   "cell_type": "code",
   "execution_count": null,
   "metadata": {},
   "outputs": [],
   "source": [
    "#we calculated expected portfolio returns but not portfolio variance.\n",
    "#portfolio variance=f(var.of stock A, var.of stock B and corr of A and B)\n",
    "#eg. portfolio variance of (Facebook and LinkedIN) not equal to Portfolio variance of (Facebook and Walmart) even variance of Linkedin and Walmart is same"
   ]
  },
  {
   "cell_type": "code",
   "execution_count": 197,
   "metadata": {},
   "outputs": [],
   "source": [
    "#portfolio variance of 2stock is given by\n",
    "#(weight1*stdv1+weight2*stdv2)^2=weight1^2*stdv1^2+2weight1*stdv1*weight2*stdv2*corr12+weight2^2*stdv2^2\n",
    "#weight1+weight2=1\n",
    "#in other words, =weight1^2*var1+2weight1*weight2*cov(1,2)+weight2^2*var2"
   ]
  },
  {
   "cell_type": "markdown",
   "metadata": {},
   "source": [
    "# calculating portfolio risk/variance/volatility"
   ]
  },
  {
   "cell_type": "code",
   "execution_count": 198,
   "metadata": {},
   "outputs": [],
   "source": [
    "#in algebra (ab)^2=a^2*b^2\n",
    "#in matrix (aB)^2=a(transpose)*B*a\n",
    "#portfolio var=weights(tran)*cov()*weights"
   ]
  },
  {
   "cell_type": "code",
   "execution_count": 206,
   "metadata": {},
   "outputs": [
    {
     "data": {
      "text/plain": [
       "array([0.5, 0.5])"
      ]
     },
     "execution_count": 206,
     "metadata": {},
     "output_type": "execute_result"
    }
   ],
   "source": [
    "#for equal weights in Reliance and TTM\n",
    "weights=np.array([0.5,0.5])\n",
    "weights"
   ]
  },
  {
   "cell_type": "code",
   "execution_count": 208,
   "metadata": {},
   "outputs": [
    {
     "data": {
      "text/plain": [
       "0.13045756907505737"
      ]
     },
     "execution_count": 208,
     "metadata": {},
     "output_type": "execute_result"
    }
   ],
   "source": [
    "#portfolio var between Reliance and TTM\n",
    "import numpy as np\n",
    "pfolio_v = np.dot(weights.T, np.dot(sec_returns.cov()*250, weights))\n",
    "pfolio_v"
   ]
  },
  {
   "cell_type": "code",
   "execution_count": 209,
   "metadata": {},
   "outputs": [],
   "source": [
    "#for portfolio volatility, raise portfolio var to power of 0.5"
   ]
  },
  {
   "cell_type": "code",
   "execution_count": 211,
   "metadata": {},
   "outputs": [
    {
     "data": {
      "text/plain": [
       "0.36118910431387236"
      ]
     },
     "execution_count": 211,
     "metadata": {},
     "output_type": "execute_result"
    }
   ],
   "source": [
    "#portfolio volatility\n",
    "pfolio_vol = (np.dot(weights.T, np.dot(sec_returns.cov()*250, weights)))**0.5\n",
    "pfolio_vol"
   ]
  },
  {
   "cell_type": "code",
   "execution_count": 223,
   "metadata": {},
   "outputs": [
    {
     "name": "stdout",
     "output_type": "stream",
     "text": [
      "36.120000000000005%\n"
     ]
    }
   ],
   "source": [
    "print (str(round(pfolio_vol, 4)*100) + '%')"
   ]
  },
  {
   "cell_type": "code",
   "execution_count": 224,
   "metadata": {},
   "outputs": [],
   "source": [
    "#risk is of two types=1. systematic risk or undiversifible risk due to recession, wars, earthequeaks. 2. Idiosyndratic/diversifible risk/company specific risk driven by company specific events"
   ]
  },
  {
   "cell_type": "code",
   "execution_count": 225,
   "metadata": {},
   "outputs": [],
   "source": [
    "#diversifible risk can be eliminated if we invest in non-correlated assets like technology, energy, construction, healthcare and so on"
   ]
  },
  {
   "cell_type": "code",
   "execution_count": null,
   "metadata": {},
   "outputs": [],
   "source": [
    "#some investors even make portfolio in different countries to further narrow down the risk."
   ]
  },
  {
   "cell_type": "markdown",
   "metadata": {},
   "source": [
    "# calculating diversifible and non-diversifible risk of portfolio\n"
   ]
  },
  {
   "cell_type": "code",
   "execution_count": 226,
   "metadata": {},
   "outputs": [],
   "source": [
    "weights = np.array([0.5,0.5])"
   ]
  },
  {
   "cell_type": "code",
   "execution_count": 227,
   "metadata": {},
   "outputs": [
    {
     "data": {
      "text/plain": [
       "0.5"
      ]
     },
     "execution_count": 227,
     "metadata": {},
     "output_type": "execute_result"
    }
   ],
   "source": [
    "weights[0]"
   ]
  },
  {
   "cell_type": "code",
   "execution_count": 228,
   "metadata": {},
   "outputs": [
    {
     "data": {
      "text/plain": [
       "0.5"
      ]
     },
     "execution_count": 228,
     "metadata": {},
     "output_type": "execute_result"
    }
   ],
   "source": [
    "weights[1]"
   ]
  },
  {
   "cell_type": "markdown",
   "metadata": {},
   "source": [
    "# Diversifible risk of portfolio"
   ]
  },
  {
   "cell_type": "code",
   "execution_count": 229,
   "metadata": {},
   "outputs": [],
   "source": [
    "#diversifible risk= portfolio variance - weighted annual variance"
   ]
  },
  {
   "cell_type": "code",
   "execution_count": 237,
   "metadata": {},
   "outputs": [],
   "source": [
    "rel_var_a = sec_returns['RELIANCE.NS'].var()*250"
   ]
  },
  {
   "cell_type": "code",
   "execution_count": 238,
   "metadata": {},
   "outputs": [
    {
     "data": {
      "text/plain": [
       "0.17612858886646957"
      ]
     },
     "execution_count": 238,
     "metadata": {},
     "output_type": "execute_result"
    }
   ],
   "source": [
    "rel_var_a"
   ]
  },
  {
   "cell_type": "code",
   "execution_count": 239,
   "metadata": {},
   "outputs": [],
   "source": [
    "TTM_var_a = sec_returns['TTM'].var()*250\n"
   ]
  },
  {
   "cell_type": "code",
   "execution_count": 240,
   "metadata": {},
   "outputs": [
    {
     "data": {
      "text/plain": [
       "0.2244785379520891"
      ]
     },
     "execution_count": 240,
     "metadata": {},
     "output_type": "execute_result"
    }
   ],
   "source": [
    "TTM_var_a"
   ]
  },
  {
   "cell_type": "code",
   "execution_count": 241,
   "metadata": {},
   "outputs": [],
   "source": [
    "#diversifible risk (unsystematic ) dr\n",
    "dr = pfolio_v - (weights[0]**2 * rel_var_a)-(weights[1]**2 * TTM_var_a)"
   ]
  },
  {
   "cell_type": "code",
   "execution_count": 242,
   "metadata": {},
   "outputs": [
    {
     "data": {
      "text/plain": [
       "0.03030578737041771"
      ]
     },
     "execution_count": 242,
     "metadata": {},
     "output_type": "execute_result"
    }
   ],
   "source": [
    "dr"
   ]
  },
  {
   "cell_type": "code",
   "execution_count": 249,
   "metadata": {},
   "outputs": [
    {
     "name": "stdout",
     "output_type": "stream",
     "text": [
      "3.0306%\n"
     ]
    }
   ],
   "source": [
    "print (str(round(dr*100, 4)) + '%')"
   ]
  },
  {
   "cell_type": "markdown",
   "metadata": {},
   "source": [
    "# Nondiversifible risk n_dr or systematic risk"
   ]
  },
  {
   "cell_type": "code",
   "execution_count": 251,
   "metadata": {},
   "outputs": [],
   "source": [
    "#remaining part of risk is systematic risk\n"
   ]
  },
  {
   "cell_type": "code",
   "execution_count": 253,
   "metadata": {},
   "outputs": [
    {
     "data": {
      "text/plain": [
       "0.10015178170463966"
      ]
     },
     "execution_count": 253,
     "metadata": {},
     "output_type": "execute_result"
    }
   ],
   "source": [
    "n_dr_1 = pfolio_v - dr\n",
    "n_dr_1"
   ]
  },
  {
   "cell_type": "code",
   "execution_count": 255,
   "metadata": {},
   "outputs": [
    {
     "data": {
      "text/plain": [
       "0.10015178170463968"
      ]
     },
     "execution_count": 255,
     "metadata": {},
     "output_type": "execute_result"
    }
   ],
   "source": [
    "#or same can be obtained by sum of weighted annual variances\n",
    "n_dr_2 = (weights[0]**2 * rel_var_a) + (weights[1]**2 * TTM_var_a)\n",
    "n_dr_2"
   ]
  },
  {
   "cell_type": "code",
   "execution_count": 257,
   "metadata": {},
   "outputs": [
    {
     "data": {
      "text/plain": [
       "True"
      ]
     },
     "execution_count": 257,
     "metadata": {},
     "output_type": "execute_result"
    }
   ],
   "source": [
    "#boolean equality\n",
    "n_dr_1 ==n_dr_2"
   ]
  },
  {
   "cell_type": "code",
   "execution_count": null,
   "metadata": {},
   "outputs": [],
   "source": []
  }
 ],
 "metadata": {
  "kernelspec": {
   "display_name": "Python 3",
   "language": "python",
   "name": "python3"
  },
  "language_info": {
   "codemirror_mode": {
    "name": "ipython",
    "version": 3
   },
   "file_extension": ".py",
   "mimetype": "text/x-python",
   "name": "python",
   "nbconvert_exporter": "python",
   "pygments_lexer": "ipython3",
   "version": "3.7.6"
  }
 },
 "nbformat": 4,
 "nbformat_minor": 4
}
