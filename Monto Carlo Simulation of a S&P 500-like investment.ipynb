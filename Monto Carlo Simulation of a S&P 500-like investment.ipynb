{
 "cells": [
  {
   "cell_type": "markdown",
   "metadata": {},
   "source": [
    "# Introduction to Monto Carlo Simulation of a S&P 500-like investment\n",
    "Starting with 10,000 and investing an additional 10,000 annually, what is the probability that you will have at least 1,000,000 after 30 years of investing in the S&P 500 etf?¶"
   ]
  },
  {
   "cell_type": "code",
   "execution_count": 3,
   "metadata": {},
   "outputs": [
    {
     "data": {
      "text/plain": [
       "'en_CA.UTF-8'"
      ]
     },
     "execution_count": 3,
     "metadata": {},
     "output_type": "execute_result"
    }
   ],
   "source": [
    "# 1. import needed libraries, set plots to display in notebook\n",
    "\n",
    "import numpy as np\n",
    "from pandas import Series, DataFrame\n",
    "%matplotlib inline\n",
    "import matplotlib.pyplot as plots\n",
    "# allows currency formatting\n",
    "import locale\n",
    "locale.setlocale(locale.LC_ALL, 'en_CA.UTF-8')\n"
   ]
  },
  {
   "cell_type": "code",
   "execution_count": 6,
   "metadata": {},
   "outputs": [
    {
     "name": "stdout",
     "output_type": "stream",
     "text": [
      "$20,700.00\n",
      "$32,149.00\n",
      "$44,399.43\n",
      "$57,507.39\n",
      "$71,532.91\n",
      "$86,540.21\n",
      "$102,598.03\n",
      "$119,779.89\n",
      "$138,164.48\n",
      "$157,835.99\n",
      "$178,884.51\n",
      "$201,406.43\n",
      "$225,504.88\n",
      "$251,290.22\n",
      "$278,880.54\n",
      "$308,402.17\n",
      "$339,990.33\n",
      "$373,789.65\n",
      "$409,954.92\n",
      "$448,651.77\n",
      "$490,057.39\n",
      "$534,361.41\n",
      "$581,766.71\n",
      "$632,490.38\n",
      "$686,764.70\n",
      "$744,838.23\n",
      "$806,976.91\n",
      "$873,465.29\n",
      "$944,607.86\n",
      "$1,020,730.41\n"
     ]
    }
   ],
   "source": [
    "# 2. A traditional savings calculator approach.  Here, no volatility into consideration\n",
    "\n",
    "pv = 10000\n",
    "time_horizon = 30\n",
    "i =.07\n",
    "additions = 10000\n",
    "\n",
    "for year in range(time_horizon):\n",
    "    ending = pv * (1+i) + additions\n",
    "    print(locale.currency(ending, grouping=True))\n",
    "    pv = ending"
   ]
  },
  {
   "cell_type": "code",
   "execution_count": 8,
   "metadata": {},
   "outputs": [
    {
     "name": "stdout",
     "output_type": "stream",
     "text": [
      "\tReturn     \t\tEnding Value\n",
      "\t0.0724               \t$20,723.97\n",
      "\t-0.138               \t$27,863.33\n",
      "\t-0.0599               \t$36,193.64\n",
      "\t0.0882               \t$49,386.93\n",
      "\t0.1401               \t$66,308.50\n",
      "\t0.21               \t$90,230.55\n",
      "\t0.1609               \t$114,752.24\n",
      "\t0.0676               \t$132,508.20\n",
      "\t-0.0413               \t$137,036.45\n",
      "\t0.2527               \t$181,664.35\n",
      "\t-0.1748               \t$159,913.92\n",
      "\t-0.0703               \t$158,679.64\n",
      "\t0.0336               \t$174,013.19\n",
      "\t0.2394               \t$225,664.57\n",
      "\t-0.304               \t$167,065.63\n",
      "\t0.2242               \t$214,524.07\n",
      "\t0.2092               \t$269,398.97\n",
      "\t0.424               \t$393,626.17\n",
      "\t0.1592               \t$466,283.36\n",
      "\t0.2911               \t$612,036.37\n",
      "\t0.341               \t$830,762.86\n",
      "\t-0.0492               \t$799,863.93\n",
      "\t0.16               \t$937,854.02\n",
      "\t0.2391               \t$1,172,082.79\n",
      "\t-0.0115               \t$1,168,655.76\n",
      "\t-0.138               \t$1,017,354.62\n",
      "\t-0.0942               \t$931,550.37\n",
      "\t-0.0997               \t$848,699.90\n",
      "\t0.2392               \t$1,061,744.24\n",
      "\t0.4613               \t$1,561,558.15\n"
     ]
    }
   ],
   "source": [
    "# 3. Generating one possible future value based on market history; I will use 9% expected return with 18% volatility.  \n",
    "#(you can not see changes when you rerun the cell hence will use montecarlo simulatoin)\n",
    "\n",
    "pv = 10000\n",
    "expected_return = .09\n",
    "volatility = .18\n",
    "time_horizon = 30\n",
    "annual_addition = 10000\n",
    "\n",
    "print(\"\\tReturn\", \"\\t\\tEnding Value\".rjust(18))\n",
    "for year in range(time_horizon):\n",
    "    market_return = np.random.normal(expected_return, volatility)\n",
    "    fv = pv * (1 + market_return) + annual_addition\n",
    "    print(\"\\t{}\".ljust(10).format(round(market_return,4)), \"\\t{}\".rjust(10).format(locale.currency(fv, grouping=True)))\n",
    "    pv = fv"
   ]
  },
  {
   "cell_type": "code",
   "execution_count": 11,
   "metadata": {},
   "outputs": [],
   "source": [
    "# 4. Simulate portfolio ending market values \n",
    "\n",
    "sim = DataFrame()\n",
    "iterations = 5000\n",
    "\n",
    "\n",
    "for x in range(iterations):\n",
    "    expected_return = .09\n",
    "    volatility = .18\n",
    "    time_horizon = 30\n",
    "    pv = 10000\n",
    "    annual_investment = 10000\n",
    "    stream = []\n",
    "    for i in range(time_horizon):\n",
    "        end = round(pv * (1 + np.random.normal(expected_return,volatility)) + annual_investment,2)\n",
    "        \n",
    "        stream.append(end)\n",
    "\n",
    "        pv = end\n",
    "\n",
    "    \n",
    "    sim[x] = stream"
   ]
  },
  {
   "cell_type": "code",
   "execution_count": 14,
   "metadata": {},
   "outputs": [
    {
     "data": {
      "text/html": [
       "<div>\n",
       "<style scoped>\n",
       "    .dataframe tbody tr th:only-of-type {\n",
       "        vertical-align: middle;\n",
       "    }\n",
       "\n",
       "    .dataframe tbody tr th {\n",
       "        vertical-align: top;\n",
       "    }\n",
       "\n",
       "    .dataframe thead th {\n",
       "        text-align: right;\n",
       "    }\n",
       "</style>\n",
       "<table border=\"1\" class=\"dataframe\">\n",
       "  <thead>\n",
       "    <tr style=\"text-align: right;\">\n",
       "      <th></th>\n",
       "      <th>0</th>\n",
       "      <th>1</th>\n",
       "      <th>2</th>\n",
       "      <th>3</th>\n",
       "      <th>4</th>\n",
       "    </tr>\n",
       "  </thead>\n",
       "  <tbody>\n",
       "    <tr>\n",
       "      <th>0</th>\n",
       "      <td>21769.21</td>\n",
       "      <td>24114.91</td>\n",
       "      <td>21613.79</td>\n",
       "      <td>22328.79</td>\n",
       "      <td>18647.48</td>\n",
       "    </tr>\n",
       "    <tr>\n",
       "      <th>1</th>\n",
       "      <td>27977.91</td>\n",
       "      <td>29070.13</td>\n",
       "      <td>35703.40</td>\n",
       "      <td>37572.52</td>\n",
       "      <td>32669.16</td>\n",
       "    </tr>\n",
       "    <tr>\n",
       "      <th>2</th>\n",
       "      <td>48770.49</td>\n",
       "      <td>32385.76</td>\n",
       "      <td>46180.40</td>\n",
       "      <td>47421.62</td>\n",
       "      <td>41209.68</td>\n",
       "    </tr>\n",
       "    <tr>\n",
       "      <th>3</th>\n",
       "      <td>71865.80</td>\n",
       "      <td>40944.22</td>\n",
       "      <td>83681.17</td>\n",
       "      <td>47860.48</td>\n",
       "      <td>51124.01</td>\n",
       "    </tr>\n",
       "    <tr>\n",
       "      <th>4</th>\n",
       "      <td>77946.48</td>\n",
       "      <td>62277.61</td>\n",
       "      <td>94634.92</td>\n",
       "      <td>68973.14</td>\n",
       "      <td>60420.14</td>\n",
       "    </tr>\n",
       "    <tr>\n",
       "      <th>5</th>\n",
       "      <td>96127.54</td>\n",
       "      <td>70742.39</td>\n",
       "      <td>105389.35</td>\n",
       "      <td>87331.92</td>\n",
       "      <td>79576.43</td>\n",
       "    </tr>\n",
       "    <tr>\n",
       "      <th>6</th>\n",
       "      <td>105693.72</td>\n",
       "      <td>65976.17</td>\n",
       "      <td>108033.53</td>\n",
       "      <td>111445.67</td>\n",
       "      <td>65879.83</td>\n",
       "    </tr>\n",
       "    <tr>\n",
       "      <th>7</th>\n",
       "      <td>151815.15</td>\n",
       "      <td>82066.64</td>\n",
       "      <td>89308.26</td>\n",
       "      <td>94559.26</td>\n",
       "      <td>90116.47</td>\n",
       "    </tr>\n",
       "    <tr>\n",
       "      <th>8</th>\n",
       "      <td>163437.77</td>\n",
       "      <td>96061.15</td>\n",
       "      <td>112938.16</td>\n",
       "      <td>137803.55</td>\n",
       "      <td>131295.74</td>\n",
       "    </tr>\n",
       "    <tr>\n",
       "      <th>9</th>\n",
       "      <td>213717.16</td>\n",
       "      <td>95739.65</td>\n",
       "      <td>125043.42</td>\n",
       "      <td>163538.04</td>\n",
       "      <td>137343.87</td>\n",
       "    </tr>\n",
       "    <tr>\n",
       "      <th>10</th>\n",
       "      <td>259411.68</td>\n",
       "      <td>117146.72</td>\n",
       "      <td>187716.39</td>\n",
       "      <td>169780.58</td>\n",
       "      <td>187163.97</td>\n",
       "    </tr>\n",
       "    <tr>\n",
       "      <th>11</th>\n",
       "      <td>421249.52</td>\n",
       "      <td>172241.63</td>\n",
       "      <td>197514.68</td>\n",
       "      <td>197503.32</td>\n",
       "      <td>208143.00</td>\n",
       "    </tr>\n",
       "    <tr>\n",
       "      <th>12</th>\n",
       "      <td>363256.34</td>\n",
       "      <td>132015.63</td>\n",
       "      <td>161943.21</td>\n",
       "      <td>224486.12</td>\n",
       "      <td>260339.47</td>\n",
       "    </tr>\n",
       "    <tr>\n",
       "      <th>13</th>\n",
       "      <td>419553.45</td>\n",
       "      <td>205445.90</td>\n",
       "      <td>230423.10</td>\n",
       "      <td>228359.58</td>\n",
       "      <td>268167.33</td>\n",
       "    </tr>\n",
       "    <tr>\n",
       "      <th>14</th>\n",
       "      <td>433270.17</td>\n",
       "      <td>200210.88</td>\n",
       "      <td>207160.94</td>\n",
       "      <td>304145.86</td>\n",
       "      <td>318525.65</td>\n",
       "    </tr>\n",
       "    <tr>\n",
       "      <th>15</th>\n",
       "      <td>386628.60</td>\n",
       "      <td>143387.43</td>\n",
       "      <td>297590.92</td>\n",
       "      <td>375859.54</td>\n",
       "      <td>398205.61</td>\n",
       "    </tr>\n",
       "    <tr>\n",
       "      <th>16</th>\n",
       "      <td>410183.95</td>\n",
       "      <td>144181.92</td>\n",
       "      <td>298086.44</td>\n",
       "      <td>493762.39</td>\n",
       "      <td>435343.74</td>\n",
       "    </tr>\n",
       "    <tr>\n",
       "      <th>17</th>\n",
       "      <td>462884.58</td>\n",
       "      <td>171553.09</td>\n",
       "      <td>312436.86</td>\n",
       "      <td>480638.88</td>\n",
       "      <td>544126.14</td>\n",
       "    </tr>\n",
       "    <tr>\n",
       "      <th>18</th>\n",
       "      <td>392925.91</td>\n",
       "      <td>194938.94</td>\n",
       "      <td>335316.51</td>\n",
       "      <td>468762.40</td>\n",
       "      <td>582642.10</td>\n",
       "    </tr>\n",
       "    <tr>\n",
       "      <th>19</th>\n",
       "      <td>497552.50</td>\n",
       "      <td>212925.95</td>\n",
       "      <td>416607.30</td>\n",
       "      <td>617953.28</td>\n",
       "      <td>663419.76</td>\n",
       "    </tr>\n",
       "    <tr>\n",
       "      <th>20</th>\n",
       "      <td>389779.40</td>\n",
       "      <td>225565.16</td>\n",
       "      <td>391724.18</td>\n",
       "      <td>676656.45</td>\n",
       "      <td>712741.57</td>\n",
       "    </tr>\n",
       "    <tr>\n",
       "      <th>21</th>\n",
       "      <td>404846.58</td>\n",
       "      <td>294055.56</td>\n",
       "      <td>377527.80</td>\n",
       "      <td>694818.68</td>\n",
       "      <td>851416.13</td>\n",
       "    </tr>\n",
       "    <tr>\n",
       "      <th>22</th>\n",
       "      <td>440252.92</td>\n",
       "      <td>381845.61</td>\n",
       "      <td>518236.62</td>\n",
       "      <td>740422.32</td>\n",
       "      <td>1048304.83</td>\n",
       "    </tr>\n",
       "    <tr>\n",
       "      <th>23</th>\n",
       "      <td>447752.56</td>\n",
       "      <td>387659.26</td>\n",
       "      <td>665518.27</td>\n",
       "      <td>940376.32</td>\n",
       "      <td>1113950.45</td>\n",
       "    </tr>\n",
       "    <tr>\n",
       "      <th>24</th>\n",
       "      <td>537063.56</td>\n",
       "      <td>387186.14</td>\n",
       "      <td>608343.69</td>\n",
       "      <td>1170178.17</td>\n",
       "      <td>1177897.77</td>\n",
       "    </tr>\n",
       "    <tr>\n",
       "      <th>25</th>\n",
       "      <td>590966.58</td>\n",
       "      <td>380256.02</td>\n",
       "      <td>641762.95</td>\n",
       "      <td>1501528.53</td>\n",
       "      <td>1160940.02</td>\n",
       "    </tr>\n",
       "    <tr>\n",
       "      <th>26</th>\n",
       "      <td>916725.08</td>\n",
       "      <td>437162.12</td>\n",
       "      <td>633787.79</td>\n",
       "      <td>1497031.62</td>\n",
       "      <td>1022864.43</td>\n",
       "    </tr>\n",
       "    <tr>\n",
       "      <th>27</th>\n",
       "      <td>939100.06</td>\n",
       "      <td>518462.05</td>\n",
       "      <td>718884.57</td>\n",
       "      <td>1969145.89</td>\n",
       "      <td>1143392.86</td>\n",
       "    </tr>\n",
       "    <tr>\n",
       "      <th>28</th>\n",
       "      <td>915295.58</td>\n",
       "      <td>595283.54</td>\n",
       "      <td>792018.93</td>\n",
       "      <td>2603578.57</td>\n",
       "      <td>1107786.23</td>\n",
       "    </tr>\n",
       "    <tr>\n",
       "      <th>29</th>\n",
       "      <td>819960.19</td>\n",
       "      <td>704925.64</td>\n",
       "      <td>1005798.81</td>\n",
       "      <td>3793256.51</td>\n",
       "      <td>1313690.13</td>\n",
       "    </tr>\n",
       "  </tbody>\n",
       "</table>\n",
       "</div>"
      ],
      "text/plain": [
       "            0          1           2           3           4\n",
       "0    21769.21   24114.91    21613.79    22328.79    18647.48\n",
       "1    27977.91   29070.13    35703.40    37572.52    32669.16\n",
       "2    48770.49   32385.76    46180.40    47421.62    41209.68\n",
       "3    71865.80   40944.22    83681.17    47860.48    51124.01\n",
       "4    77946.48   62277.61    94634.92    68973.14    60420.14\n",
       "5    96127.54   70742.39   105389.35    87331.92    79576.43\n",
       "6   105693.72   65976.17   108033.53   111445.67    65879.83\n",
       "7   151815.15   82066.64    89308.26    94559.26    90116.47\n",
       "8   163437.77   96061.15   112938.16   137803.55   131295.74\n",
       "9   213717.16   95739.65   125043.42   163538.04   137343.87\n",
       "10  259411.68  117146.72   187716.39   169780.58   187163.97\n",
       "11  421249.52  172241.63   197514.68   197503.32   208143.00\n",
       "12  363256.34  132015.63   161943.21   224486.12   260339.47\n",
       "13  419553.45  205445.90   230423.10   228359.58   268167.33\n",
       "14  433270.17  200210.88   207160.94   304145.86   318525.65\n",
       "15  386628.60  143387.43   297590.92   375859.54   398205.61\n",
       "16  410183.95  144181.92   298086.44   493762.39   435343.74\n",
       "17  462884.58  171553.09   312436.86   480638.88   544126.14\n",
       "18  392925.91  194938.94   335316.51   468762.40   582642.10\n",
       "19  497552.50  212925.95   416607.30   617953.28   663419.76\n",
       "20  389779.40  225565.16   391724.18   676656.45   712741.57\n",
       "21  404846.58  294055.56   377527.80   694818.68   851416.13\n",
       "22  440252.92  381845.61   518236.62   740422.32  1048304.83\n",
       "23  447752.56  387659.26   665518.27   940376.32  1113950.45\n",
       "24  537063.56  387186.14   608343.69  1170178.17  1177897.77\n",
       "25  590966.58  380256.02   641762.95  1501528.53  1160940.02\n",
       "26  916725.08  437162.12   633787.79  1497031.62  1022864.43\n",
       "27  939100.06  518462.05   718884.57  1969145.89  1143392.86\n",
       "28  915295.58  595283.54   792018.93  2603578.57  1107786.23\n",
       "29  819960.19  704925.64  1005798.81  3793256.51  1313690.13"
      ]
     },
     "execution_count": 14,
     "metadata": {},
     "output_type": "execute_result"
    }
   ],
   "source": [
    "first_five = list(range(5))\n",
    "sim[first_five]"
   ]
  },
  {
   "cell_type": "code",
   "execution_count": 15,
   "metadata": {},
   "outputs": [
    {
     "data": {
      "text/plain": [
       "[<matplotlib.lines.Line2D at 0x116c1f8d0>,\n",
       " <matplotlib.lines.Line2D at 0x116c1f090>,\n",
       " <matplotlib.lines.Line2D at 0x116c1f350>,\n",
       " <matplotlib.lines.Line2D at 0x116ea9410>,\n",
       " <matplotlib.lines.Line2D at 0x114ecdb50>]"
      ]
     },
     "execution_count": 15,
     "metadata": {},
     "output_type": "execute_result"
    },
    {
     "data": {
      "image/png": "[encoded data removed]",
      "text/plain": [
       "<Figure size 432x288 with 1 Axes>"
      ]
     },
     "metadata": {
      "needs_background": "light"
     },
     "output_type": "display_data"
    }
   ],
   "source": [
    "# 6. Plot first five simulated portfolios\n",
    "plots.plot(sim[first_five])"
   ]
  },
  {
   "cell_type": "code",
   "execution_count": 16,
   "metadata": {},
   "outputs": [
    {
     "name": "stdout",
     "output_type": "stream",
     "text": [
      "Count: 5000\n",
      "Mean:  $1,490,775.38\n",
      "SD:  $1,160,909.55\n",
      "Max:  $16,811,410.06\n",
      "Min:  $133,303.05\n"
     ]
    }
   ],
   "source": [
    "# 7. Generate summary statistics of 29th row with numpy functions\n",
    "\n",
    "print(\"Count:\", len(sim.loc[29]))\n",
    "print(\"Mean: \", locale.currency(np.mean(sim.loc[29]),grouping=True))\n",
    "print(\"SD: \",locale.currency(np.std(sim.loc[29]),grouping=True))\n",
    "print(\"Max: \",locale.currency(np.max(sim.loc[29]), grouping=True))\n",
    "print(\"Min: \", locale.currency(np.min(sim.loc[29]), grouping=True))\n"
   ]
  },
  {
   "cell_type": "code",
   "execution_count": 17,
   "metadata": {},
   "outputs": [
    {
     "data": {
      "text/plain": [
       "count    5.000000e+03\n",
       "mean     1.490775e+06\n",
       "std      1.161026e+06\n",
       "min      1.333030e+05\n",
       "25%      7.497760e+05\n",
       "50%      1.180248e+06\n",
       "75%      1.844596e+06\n",
       "max      1.681141e+07\n",
       "Name: 29, dtype: float64"
      ]
     },
     "execution_count": 17,
     "metadata": {},
     "output_type": "execute_result"
    }
   ],
   "source": [
    "# 8. Generating more comprehensive summary statistics with pandas describe function\n",
    "ending_values = sim.loc[29]\n",
    "ending_values.describe()"
   ]
  },
  {
   "cell_type": "code",
   "execution_count": 18,
   "metadata": {},
   "outputs": [
    {
     "data": {
      "text/plain": [
       "(array([ 93., 344., 456., 524., 503., 458., 384., 373., 309., 254., 200.,\n",
       "        153., 137., 104., 115.,  81.,  78.,  62.,  43.,  42.,  38.,  25.,\n",
       "         27.,  28.,  17.,  15.,  18.,  11.,  12.,  14.,   7.,   7.,   7.,\n",
       "         11.,   6.,   5.,   5.,   5.,   3.,   3.,   5.,   1.,   1.,   1.,\n",
       "          2.,   1.,   1.,   0.,   1.,   0.,   1.,   0.,   0.,   0.,   0.,\n",
       "          2.,   0.,   0.,   0.,   0.,   0.,   1.,   1.,   1.,   0.,   1.,\n",
       "          0.,   0.,   0.,   0.,   0.,   1.,   0.,   0.,   0.,   0.,   0.,\n",
       "          0.,   0.,   0.,   0.,   0.,   0.,   1.,   0.,   0.,   0.,   0.,\n",
       "          0.,   0.,   0.,   0.,   0.,   0.,   0.,   0.,   0.,   0.,   0.,\n",
       "          1.]),\n",
       " array([  133303.05  ,   300084.1201,   466865.1902,   633646.2603,\n",
       "          800427.3304,   967208.4005,  1133989.4706,  1300770.5407,\n",
       "         1467551.6108,  1634332.6809,  1801113.751 ,  1967894.8211,\n",
       "         2134675.8912,  2301456.9613,  2468238.0314,  2635019.1015,\n",
       "         2801800.1716,  2968581.2417,  3135362.3118,  3302143.3819,\n",
       "         3468924.452 ,  3635705.5221,  3802486.5922,  3969267.6623,\n",
       "         4136048.7324,  4302829.8025,  4469610.8726,  4636391.9427,\n",
       "         4803173.0128,  4969954.0829,  5136735.153 ,  5303516.2231,\n",
       "         5470297.2932,  5637078.3633,  5803859.4334,  5970640.5035,\n",
       "         6137421.5736,  6304202.6437,  6470983.7138,  6637764.7839,\n",
       "         6804545.854 ,  6971326.9241,  7138107.9942,  7304889.0643,\n",
       "         7471670.1344,  7638451.2045,  7805232.2746,  7972013.3447,\n",
       "         8138794.4148,  8305575.4849,  8472356.555 ,  8639137.6251,\n",
       "         8805918.6952,  8972699.7653,  9139480.8354,  9306261.9055,\n",
       "         9473042.9756,  9639824.0457,  9806605.1158,  9973386.1859,\n",
       "        10140167.256 , 10306948.3261, 10473729.3962, 10640510.4663,\n",
       "        10807291.5364, 10974072.6065, 11140853.6766, 11307634.7467,\n",
       "        11474415.8168, 11641196.8869, 11807977.957 , 11974759.0271,\n",
       "        12141540.0972, 12308321.1673, 12475102.2374, 12641883.3075,\n",
       "        12808664.3776, 12975445.4477, 13142226.5178, 13309007.5879,\n",
       "        13475788.658 , 13642569.7281, 13809350.7982, 13976131.8683,\n",
       "        14142912.9384, 14309694.0085, 14476475.0786, 14643256.1487,\n",
       "        14810037.2188, 14976818.2889, 15143599.359 , 15310380.4291,\n",
       "        15477161.4992, 15643942.5693, 15810723.6394, 15977504.7095,\n",
       "        16144285.7796, 16311066.8497, 16477847.9198, 16644628.9899,\n",
       "        16811410.06  ]),\n",
       " <a list of 100 Patch objects>)"
      ]
     },
     "execution_count": 18,
     "metadata": {},
     "output_type": "execute_result"
    },
    {
     "data": {
      "image/png": "[encoded data removed]",
      "text/plain": [
       "<Figure size 432x288 with 1 Axes>"
      ]
     },
     "metadata": {
      "needs_background": "light"
     },
     "output_type": "display_data"
    }
   ],
   "source": [
    "# 9. Get a visualization of the distribution of ending values\n",
    "\n",
    "plots.hist(ending_values, bins=100)"
   ]
  },
  {
   "cell_type": "code",
   "execution_count": null,
   "metadata": {},
   "outputs": [],
   "source": [
    "#mean-centered at  1.490775e+06 \n"
   ]
  },
  {
   "cell_type": "code",
   "execution_count": 20,
   "metadata": {},
   "outputs": [
    {
     "data": {
      "text/plain": [
       "0.4044"
      ]
     },
     "execution_count": 20,
     "metadata": {},
     "output_type": "execute_result"
    }
   ],
   "source": [
    "# 10. Calculate probability of seeing a specific ending_value or less, \n",
    "# for example get close to the 75%ile, or $1,000,000\n",
    "\n",
    "len(ending_values[ending_values<1000000])/ len(ending_values)"
   ]
  },
  {
   "cell_type": "code",
   "execution_count": 21,
   "metadata": {},
   "outputs": [
    {
     "data": {
      "text/plain": [
       "0.1766"
      ]
     },
     "execution_count": 21,
     "metadata": {},
     "output_type": "execute_result"
    }
   ],
   "source": [
    "# 11. You can't really get a point estimate, but you can get a range ending values\n",
    "\n",
    "len(ending_values[(ending_values> 800000) & (ending_values< 1100000)]) /len(ending_values)"
   ]
  },
  {
   "cell_type": "code",
   "execution_count": 22,
   "metadata": {},
   "outputs": [
    {
     "name": "stdout",
     "output_type": "stream",
     "text": [
      "       5%-ile:  $391,355.16\n",
      "      10%-ile:  $492,255.37\n",
      "      15%-ile:  $582,264.57\n",
      "      25%-ile:  $749,776.03\n",
      "      75%-ile:  $1,844,596.12\n",
      "      85%-ile:  $2,381,424.47\n",
      "      90%-ile:  $2,821,022.36\n",
      "      95%-ile:  $3,620,889.53\n"
     ]
    }
   ],
   "source": [
    "# 12. You can get a more comprehensive table of percentiles easily using numpy's percentile function\n",
    "\n",
    "p_tiles = np.percentile(ending_values,[5,10,15,25,75,85,90, 95])\n",
    "for p in range(len(p_tiles)):\n",
    "    l = [5,10,15,25,75,85,90,95]\n",
    "    print( \"{}%-ile: \".format(l[p]).rjust(15),\"{}\".format(locale.currency(p_tiles[p], grouping=True)))"
   ]
  },
  {
   "cell_type": "code",
   "execution_count": null,
   "metadata": {},
   "outputs": [],
   "source": []
  }
 ],
 "metadata": {
  "kernelspec": {
   "display_name": "Python 3",
   "language": "python",
   "name": "python3"
  },
  "language_info": {
   "codemirror_mode": {
    "name": "ipython",
    "version": 3
   },
   "file_extension": ".py",
   "mimetype": "text/x-python",
   "name": "python",
   "nbconvert_exporter": "python",
   "pygments_lexer": "ipython3",
   "version": "3.7.6"
  }
 },
 "nbformat": 4,
 "nbformat_minor": 4
}
