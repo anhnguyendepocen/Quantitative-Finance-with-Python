{
 "cells": [
  {
   "cell_type": "markdown",
   "metadata": {},
   "source": [
    "# Data Analysis with Python"
   ]
  },
  {
   "cell_type": "code",
   "execution_count": 39,
   "metadata": {},
   "outputs": [],
   "source": [
    "#import relevant libraries\n",
    "import numpy as np\n",
    "import pandas as pd\n",
    "import pandas_datareader as pdr\n",
    "import matplotlib.pyplot as plt\n",
    "%matplotlib inline\n",
    "import warnings\n",
    "warnings.filterwarnings('ignore')"
   ]
  },
  {
   "cell_type": "code",
   "execution_count": 40,
   "metadata": {},
   "outputs": [],
   "source": [
    "#download stock price data and store in dataframe\n",
    "amzn = pdr.get_data_yahoo('AMZN', start = '2019-08-01')"
   ]
  },
  {
   "cell_type": "code",
   "execution_count": 41,
   "metadata": {},
   "outputs": [
    {
     "data": {
      "text/html": [
       "<div>\n",
       "<style scoped>\n",
       "    .dataframe tbody tr th:only-of-type {\n",
       "        vertical-align: middle;\n",
       "    }\n",
       "\n",
       "    .dataframe tbody tr th {\n",
       "        vertical-align: top;\n",
       "    }\n",
       "\n",
       "    .dataframe thead th {\n",
       "        text-align: right;\n",
       "    }\n",
       "</style>\n",
       "<table border=\"1\" class=\"dataframe\">\n",
       "  <thead>\n",
       "    <tr style=\"text-align: right;\">\n",
       "      <th></th>\n",
       "      <th>High</th>\n",
       "      <th>Low</th>\n",
       "      <th>Open</th>\n",
       "      <th>Close</th>\n",
       "      <th>Volume</th>\n",
       "      <th>Adj Close</th>\n",
       "    </tr>\n",
       "    <tr>\n",
       "      <th>Date</th>\n",
       "      <th></th>\n",
       "      <th></th>\n",
       "      <th></th>\n",
       "      <th></th>\n",
       "      <th></th>\n",
       "      <th></th>\n",
       "    </tr>\n",
       "  </thead>\n",
       "  <tbody>\n",
       "    <tr>\n",
       "      <th>2019-07-31</th>\n",
       "      <td>1899.550049</td>\n",
       "      <td>1849.439941</td>\n",
       "      <td>1898.109985</td>\n",
       "      <td>1866.780029</td>\n",
       "      <td>4470700</td>\n",
       "      <td>1866.780029</td>\n",
       "    </tr>\n",
       "    <tr>\n",
       "      <th>2019-08-01</th>\n",
       "      <td>1897.920044</td>\n",
       "      <td>1844.010010</td>\n",
       "      <td>1871.719971</td>\n",
       "      <td>1855.319946</td>\n",
       "      <td>4713300</td>\n",
       "      <td>1855.319946</td>\n",
       "    </tr>\n",
       "    <tr>\n",
       "      <th>2019-08-02</th>\n",
       "      <td>1846.359985</td>\n",
       "      <td>1808.020020</td>\n",
       "      <td>1845.069946</td>\n",
       "      <td>1823.239990</td>\n",
       "      <td>4956200</td>\n",
       "      <td>1823.239990</td>\n",
       "    </tr>\n",
       "    <tr>\n",
       "      <th>2019-08-05</th>\n",
       "      <td>1788.670044</td>\n",
       "      <td>1748.780029</td>\n",
       "      <td>1770.219971</td>\n",
       "      <td>1765.130005</td>\n",
       "      <td>6058200</td>\n",
       "      <td>1765.130005</td>\n",
       "    </tr>\n",
       "    <tr>\n",
       "      <th>2019-08-06</th>\n",
       "      <td>1793.770020</td>\n",
       "      <td>1753.400024</td>\n",
       "      <td>1792.229980</td>\n",
       "      <td>1787.829956</td>\n",
       "      <td>5070300</td>\n",
       "      <td>1787.829956</td>\n",
       "    </tr>\n",
       "  </tbody>\n",
       "</table>\n",
       "</div>"
      ],
      "text/plain": [
       "                   High          Low         Open        Close   Volume  \\\n",
       "Date                                                                      \n",
       "2019-07-31  1899.550049  1849.439941  1898.109985  1866.780029  4470700   \n",
       "2019-08-01  1897.920044  1844.010010  1871.719971  1855.319946  4713300   \n",
       "2019-08-02  1846.359985  1808.020020  1845.069946  1823.239990  4956200   \n",
       "2019-08-05  1788.670044  1748.780029  1770.219971  1765.130005  6058200   \n",
       "2019-08-06  1793.770020  1753.400024  1792.229980  1787.829956  5070300   \n",
       "\n",
       "              Adj Close  \n",
       "Date                     \n",
       "2019-07-31  1866.780029  \n",
       "2019-08-01  1855.319946  \n",
       "2019-08-02  1823.239990  \n",
       "2019-08-05  1765.130005  \n",
       "2019-08-06  1787.829956  "
      ]
     },
     "execution_count": 41,
     "metadata": {},
     "output_type": "execute_result"
    }
   ],
   "source": [
    "#Take a look\n",
    "amzn.head()"
   ]
  },
  {
   "cell_type": "code",
   "execution_count": 42,
   "metadata": {},
   "outputs": [],
   "source": [
    "#Get the data we are interested in\n",
    "amzn_close = amzn['Close']"
   ]
  },
  {
   "cell_type": "code",
   "execution_count": 43,
   "metadata": {},
   "outputs": [
    {
     "data": {
      "text/plain": [
       "Date\n",
       "2019-07-31    1866.780029\n",
       "2019-08-01    1855.319946\n",
       "2019-08-02    1823.239990\n",
       "2019-08-05    1765.130005\n",
       "2019-08-06    1787.829956\n",
       "Name: Close, dtype: float64"
      ]
     },
     "execution_count": 43,
     "metadata": {},
     "output_type": "execute_result"
    }
   ],
   "source": [
    "\n",
    "amzn_close.head()"
   ]
  },
  {
   "cell_type": "code",
   "execution_count": 44,
   "metadata": {},
   "outputs": [
    {
     "data": {
      "text/plain": [
       "pandas.core.series.Series"
      ]
     },
     "execution_count": 44,
     "metadata": {},
     "output_type": "execute_result"
    }
   ],
   "source": [
    "#Verify data structure\n",
    "type(amzn_close)"
   ]
  },
  {
   "cell_type": "code",
   "execution_count": 45,
   "metadata": {},
   "outputs": [
    {
     "data": {
      "text/plain": [
       "Date\n",
       "2019-07-31         NaN\n",
       "2019-08-01   -0.615788\n",
       "2019-08-02   -1.744203\n",
       "2019-08-05   -3.239079\n",
       "2019-08-06    1.277822\n",
       "                ...   \n",
       "2020-08-10   -0.611187\n",
       "2020-08-11   -2.167105\n",
       "2020-08-12    2.613355\n",
       "2020-08-13   -0.038587\n",
       "2020-08-14   -0.412108\n",
       "Name: Close, Length: 264, dtype: float64"
      ]
     },
     "execution_count": 45,
     "metadata": {},
     "output_type": "execute_result"
    }
   ],
   "source": [
    "#intatenous rate of return\n",
    "amzn_percent_change = np.log(amzn_close/amzn_close.shift(1))*100\n",
    "amzn_percent_change"
   ]
  },
  {
   "cell_type": "code",
   "execution_count": 46,
   "metadata": {
    "scrolled": true
   },
   "outputs": [
    {
     "data": {
      "text/plain": [
       "count    263.000000\n",
       "mean       0.198692\n",
       "std        2.101068\n",
       "min       -8.253502\n",
       "25%       -0.805957\n",
       "50%        0.241980\n",
       "75%        1.110987\n",
       "max        7.630827\n",
       "Name: Close, dtype: float64"
      ]
     },
     "execution_count": 46,
     "metadata": {},
     "output_type": "execute_result"
    }
   ],
   "source": [
    "#pandas describe function gives descriptive statisics.\n",
    "#pandas also deals with missing values by omitting them\n",
    "amzn_percent_change.describe()"
   ]
  },
  {
   "cell_type": "code",
   "execution_count": 47,
   "metadata": {},
   "outputs": [
    {
     "data": {
      "text/plain": [
       "DescribeResult(nobs=263, minmax=(-8.253501999172958, 7.630827178768753), mean=0.19869150295435464, variance=4.414485427407771, skewness=0.06869607457727704, kurtosis=2.756806699185198)"
      ]
     },
     "execution_count": 47,
     "metadata": {},
     "output_type": "execute_result"
    }
   ],
   "source": [
    "#Alternative, yet comprehensive table of descriptive stats can be genderated\n",
    "#by using scipy library\n",
    "from scipy import stats\n",
    "stats.describe(amzn_percent_change[1:])"
   ]
  },
  {
   "cell_type": "code",
   "execution_count": 48,
   "metadata": {},
   "outputs": [
    {
     "data": {
      "text/plain": [
       "DescribeResult(nobs=263, minmax=(-6.365099231751516, 6.553566575068828), mean=0.15408914491530026, variance=4.022418969230876, skewness=0.01029071055985559, kurtosis=0.383640716173137)"
      ]
     },
     "execution_count": 48,
     "metadata": {},
     "output_type": "execute_result"
    }
   ],
   "source": [
    "#for comparision generate random number that follows normal distribution\n",
    "x = np.random.normal(0.1986, 2.1010, 263)# (mean, std, ob)\n",
    "stats.describe(x)"
   ]
  },
  {
   "cell_type": "code",
   "execution_count": 49,
   "metadata": {},
   "outputs": [
    {
     "name": "stdout",
     "output_type": "stream",
     "text": [
      "x: KurtosistestResult(statistic=1.3351131370771085, pvalue=0.18183932043518292)\n",
      "amzn: KurtosistestResult(statistic=4.670668384071384, pvalue=3.0022126884078596e-06)\n"
     ]
    }
   ],
   "source": [
    "#use scipy stats to test the kurtosis.  H0:Sample drawn from population \n",
    "# where the underlyng kurtosis is that of a normally distr. variable\n",
    "print('x:', stats.kurtosistest(x))\n",
    "print('amzn:', stats.kurtosistest(amzn_percent_change[1:]))"
   ]
  },
  {
   "cell_type": "code",
   "execution_count": 50,
   "metadata": {},
   "outputs": [],
   "source": [
    "#two tailed t-test (x) shows 57% chance that we reject H0 when it is actually true\n",
    "#two tailed t-test (amzn) shows 0.0000003 % chance that we reject H0 when it is actually true\n",
    "#x follows normal distribution\n",
    "#amzn not follows normal distribution "
   ]
  },
  {
   "cell_type": "code",
   "execution_count": 54,
   "metadata": {},
   "outputs": [
    {
     "ename": "AttributeError",
     "evalue": "module 'matplotlib.mlab' has no attribute 'normpdf'",
     "output_type": "error",
     "traceback": [
      "\u001b[0;31m---------------------------------------------------------------------------\u001b[0m",
      "\u001b[0;31mAttributeError\u001b[0m                            Traceback (most recent call last)",
      "\u001b[0;32m<ipython-input-54-0f44d4237c0a>\u001b[0m in \u001b[0;36m<module>\u001b[0;34m\u001b[0m\n\u001b[1;32m     10\u001b[0m \u001b[0ma\u001b[0m \u001b[0;34m=\u001b[0m \u001b[0mnp\u001b[0m\u001b[0;34m.\u001b[0m\u001b[0mlinspace\u001b[0m\u001b[0;34m(\u001b[0m\u001b[0mmin_chng\u001b[0m\u001b[0;34m,\u001b[0m \u001b[0mmax_chng\u001b[0m\u001b[0;34m,\u001b[0m \u001b[0;36m100\u001b[0m\u001b[0;34m)\u001b[0m\u001b[0;34m\u001b[0m\u001b[0;34m\u001b[0m\u001b[0m\n\u001b[1;32m     11\u001b[0m \u001b[0;34m\u001b[0m\u001b[0m\n\u001b[0;32m---> 12\u001b[0;31m \u001b[0mplt\u001b[0m\u001b[0;34m.\u001b[0m\u001b[0mplot\u001b[0m\u001b[0;34m(\u001b[0m\u001b[0ma\u001b[0m\u001b[0;34m,\u001b[0m \u001b[0mmlab\u001b[0m\u001b[0;34m.\u001b[0m\u001b[0mnormpdf\u001b[0m\u001b[0;34m(\u001b[0m\u001b[0ma\u001b[0m\u001b[0;34m,\u001b[0m \u001b[0mmean\u001b[0m\u001b[0;34m,\u001b[0m \u001b[0msd\u001b[0m\u001b[0;34m)\u001b[0m\u001b[0;34m)\u001b[0m\u001b[0;34m\u001b[0m\u001b[0;34m\u001b[0m\u001b[0m\n\u001b[0m\u001b[1;32m     13\u001b[0m \u001b[0;34m\u001b[0m\u001b[0m\n\u001b[1;32m     14\u001b[0m \u001b[0;34m\u001b[0m\u001b[0m\n",
      "\u001b[0;31mAttributeError\u001b[0m: module 'matplotlib.mlab' has no attribute 'normpdf'"
     ]
    },
    {
     "data": {
      "image/png": "[encoded data removed]",
      "text/plain": [
       "<Figure size 432x288 with 1 Axes>"
      ]
     },
     "metadata": {
      "needs_background": "light"
     },
     "output_type": "display_data"
    }
   ],
   "source": [
    "#plot histogram of price changes with normal curve overlay\n",
    "import matplotlib.mlab as mlab\n",
    "plt.hist(amzn_percent_change, edgecolor='black', normed=True)\n",
    "\n",
    "#overlay  normal curve\n",
    "mean = float(np.mean(amzn_percent_change))\n",
    "sd = float(np.std(amzn_percent_change))\n",
    "min_chng=float(np.min(amzn_percent_change))\n",
    "max_chng=float(np.max(amzn_percent_change))\n",
    "a = np.linspace(min_chng, max_chng, 100)\n",
    "\n",
    "plt.plot(a, mlab.normpdf(a, mean, sd))\n",
    "\n",
    "\n"
   ]
  },
  {
   "cell_type": "code",
   "execution_count": 55,
   "metadata": {
    "scrolled": true
   },
   "outputs": [
    {
     "ename": "AttributeError",
     "evalue": "module 'matplotlib.mlab' has no attribute 'normpdf'",
     "output_type": "error",
     "traceback": [
      "\u001b[0;31m---------------------------------------------------------------------------\u001b[0m",
      "\u001b[0;31mAttributeError\u001b[0m                            Traceback (most recent call last)",
      "\u001b[0;32m<ipython-input-55-d0656d082d6b>\u001b[0m in \u001b[0;36m<module>\u001b[0;34m\u001b[0m\n\u001b[1;32m      5\u001b[0m \u001b[0msd\u001b[0m \u001b[0;34m=\u001b[0m\u001b[0mfloat\u001b[0m\u001b[0;34m(\u001b[0m\u001b[0mnp\u001b[0m\u001b[0;34m.\u001b[0m\u001b[0mstd\u001b[0m\u001b[0;34m(\u001b[0m\u001b[0mx\u001b[0m\u001b[0;34m)\u001b[0m\u001b[0;34m)\u001b[0m\u001b[0;34m\u001b[0m\u001b[0;34m\u001b[0m\u001b[0m\n\u001b[1;32m      6\u001b[0m \u001b[0mb\u001b[0m \u001b[0;34m=\u001b[0m \u001b[0mnp\u001b[0m\u001b[0;34m.\u001b[0m\u001b[0mlinspace\u001b[0m\u001b[0;34m(\u001b[0m\u001b[0mnp\u001b[0m\u001b[0;34m.\u001b[0m\u001b[0mmin\u001b[0m\u001b[0;34m(\u001b[0m\u001b[0mx\u001b[0m\u001b[0;34m)\u001b[0m\u001b[0;34m,\u001b[0m \u001b[0mnp\u001b[0m\u001b[0;34m.\u001b[0m\u001b[0mmax\u001b[0m\u001b[0;34m(\u001b[0m\u001b[0mx\u001b[0m\u001b[0;34m)\u001b[0m\u001b[0;34m,\u001b[0m \u001b[0;36m100\u001b[0m\u001b[0;34m)\u001b[0m\u001b[0;34m\u001b[0m\u001b[0;34m\u001b[0m\u001b[0m\n\u001b[0;32m----> 7\u001b[0;31m \u001b[0mplt\u001b[0m\u001b[0;34m.\u001b[0m\u001b[0mplot\u001b[0m\u001b[0;34m(\u001b[0m\u001b[0mb\u001b[0m\u001b[0;34m,\u001b[0m \u001b[0mmlab\u001b[0m\u001b[0;34m.\u001b[0m\u001b[0mnormpdf\u001b[0m\u001b[0;34m(\u001b[0m\u001b[0mb\u001b[0m\u001b[0;34m,\u001b[0m \u001b[0mmean\u001b[0m\u001b[0;34m,\u001b[0m \u001b[0msd\u001b[0m\u001b[0;34m)\u001b[0m\u001b[0;34m)\u001b[0m\u001b[0;34m\u001b[0m\u001b[0;34m\u001b[0m\u001b[0m\n\u001b[0m\u001b[1;32m      8\u001b[0m \u001b[0mplt\u001b[0m\u001b[0;34m.\u001b[0m\u001b[0mshow\u001b[0m\u001b[0;34m(\u001b[0m\u001b[0;34m)\u001b[0m\u001b[0;34m\u001b[0m\u001b[0;34m\u001b[0m\u001b[0m\n",
      "\u001b[0;31mAttributeError\u001b[0m: module 'matplotlib.mlab' has no attribute 'normpdf'"
     ]
    },
    {
     "data": {
      "image/png": "[encoded data removed]",
      "text/plain": [
       "<Figure size 432x288 with 1 Axes>"
      ]
     },
     "metadata": {
      "needs_background": "light"
     },
     "output_type": "display_data"
    }
   ],
   "source": [
    "#compare to sample drawn from N.D. population with same attributes\n",
    "\n",
    "plt.hist(x, normed=True)\n",
    "mean = float(np.mean(x))\n",
    "sd =float(np.std(x))\n",
    "b = np.linspace(np.min(x), np.max(x), 100)\n",
    "plt.plot(b, mlab.normpdf(b, mean, sd))\n",
    "plt.show()"
   ]
  },
  {
   "cell_type": "code",
   "execution_count": null,
   "metadata": {},
   "outputs": [],
   "source": []
  },
  {
   "cell_type": "code",
   "execution_count": null,
   "metadata": {},
   "outputs": [],
   "source": []
  },
  {
   "cell_type": "code",
   "execution_count": null,
   "metadata": {},
   "outputs": [],
   "source": []
  },
  {
   "cell_type": "code",
   "execution_count": null,
   "metadata": {},
   "outputs": [],
   "source": []
  }
 ],
 "metadata": {
  "kernelspec": {
   "display_name": "Python 3",
   "language": "python",
   "name": "python3"
  },
  "language_info": {
   "codemirror_mode": {
    "name": "ipython",
    "version": 3
   },
   "file_extension": ".py",
   "mimetype": "text/x-python",
   "name": "python",
   "nbconvert_exporter": "python",
   "pygments_lexer": "ipython3",
   "version": "3.7.6"
  }
 },
 "nbformat": 4,
 "nbformat_minor": 4
}
